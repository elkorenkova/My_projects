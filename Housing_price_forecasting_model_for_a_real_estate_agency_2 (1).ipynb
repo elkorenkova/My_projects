{
  "nbformat": 4,
  "nbformat_minor": 0,
  "metadata": {
    "colab": {
      "provenance": []
    },
    "kernelspec": {
      "name": "python3",
      "display_name": "Python 3"
    },
    "language_info": {
      "name": "python"
    }
  },
  "cells": [
    {
      "cell_type": "code",
      "execution_count": 11,
      "metadata": {
        "id": "2wwMlv6tjlRU"
      },
      "outputs": [],
      "source": [
        "import numpy as np\n",
        "import pandas as pd\n",
        "import matplotlib.pyplot as plt\n",
        "import seaborn as sns\n",
        "import plotly.express as px\n",
        "\n",
        "from scipy import stats\n",
        "from sklearn import linear_model\n",
        "from sklearn import preprocessing\n",
        "from sklearn import model_selection\n",
        "from sklearn import tree\n",
        "from sklearn import ensemble\n",
        "from sklearn import metrics\n",
        "from sklearn import feature_selection\n",
        "\n",
        "from itertools import combinations\n",
        "from scipy.stats import ttest_ind\n",
        "\n",
        "from sklearn.ensemble import RandomForestRegressor\n",
        "from sklearn import metrics # инструменты для оценки точности модели"
      ]
    },
    {
      "cell_type": "code",
      "source": [
        "from google.colab import drive\n",
        "drive.mount('/content/drive')\n",
        "df = pd.read_csv(\"./drive/MyDrive//dataREST.csv\")"
      ],
      "metadata": {
        "colab": {
          "base_uri": "https://localhost:8080/"
        },
        "id": "uwLqdVBpjqwO",
        "outputId": "780ba8c8-0c92-4d86-b4bc-7cbc69689f4d"
      },
      "execution_count": 12,
      "outputs": [
        {
          "output_type": "stream",
          "name": "stdout",
          "text": [
            "Drive already mounted at /content/drive; to attempt to forcibly remount, call drive.mount(\"/content/drive\", force_remount=True).\n"
          ]
        }
      ]
    },
    {
      "cell_type": "code",
      "source": [
        "df.head(1)"
      ],
      "metadata": {
        "colab": {
          "base_uri": "https://localhost:8080/",
          "height": 187
        },
        "id": "uKSSGWAEjzIe",
        "outputId": "24289e3c-678d-4d3a-e456-0815d2b3806a"
      },
      "execution_count": 13,
      "outputs": [
        {
          "output_type": "execute_result",
          "data": {
            "text/plain": [
              "   status private pool        propertyType          street baths  \\\n",
              "0  Active          NaN  Single Family Home  240 Heather Ln   3.5   \n",
              "\n",
              "                                           homeFacts fireplace  \\\n",
              "0  {'atAGlanceFacts': [{'factValue': '2019', 'fac...  Gas Logs   \n",
              "\n",
              "             city                                            schools  sqft  \\\n",
              "0  Southern Pines  [{'rating': ['4', '4', '7', 'NR', '4', '7', 'N...  2900   \n",
              "\n",
              "  zipcode beds state stories mls-id PrivatePool   MlsId    target  \n",
              "0   28387    4    NC     NaN    NaN         NaN  611019  $418,000  "
            ],
            "text/html": [
              "\n",
              "  <div id=\"df-ee97c633-aff3-42e0-b708-db7f823e2801\" class=\"colab-df-container\">\n",
              "    <div>\n",
              "<style scoped>\n",
              "    .dataframe tbody tr th:only-of-type {\n",
              "        vertical-align: middle;\n",
              "    }\n",
              "\n",
              "    .dataframe tbody tr th {\n",
              "        vertical-align: top;\n",
              "    }\n",
              "\n",
              "    .dataframe thead th {\n",
              "        text-align: right;\n",
              "    }\n",
              "</style>\n",
              "<table border=\"1\" class=\"dataframe\">\n",
              "  <thead>\n",
              "    <tr style=\"text-align: right;\">\n",
              "      <th></th>\n",
              "      <th>status</th>\n",
              "      <th>private pool</th>\n",
              "      <th>propertyType</th>\n",
              "      <th>street</th>\n",
              "      <th>baths</th>\n",
              "      <th>homeFacts</th>\n",
              "      <th>fireplace</th>\n",
              "      <th>city</th>\n",
              "      <th>schools</th>\n",
              "      <th>sqft</th>\n",
              "      <th>zipcode</th>\n",
              "      <th>beds</th>\n",
              "      <th>state</th>\n",
              "      <th>stories</th>\n",
              "      <th>mls-id</th>\n",
              "      <th>PrivatePool</th>\n",
              "      <th>MlsId</th>\n",
              "      <th>target</th>\n",
              "    </tr>\n",
              "  </thead>\n",
              "  <tbody>\n",
              "    <tr>\n",
              "      <th>0</th>\n",
              "      <td>Active</td>\n",
              "      <td>NaN</td>\n",
              "      <td>Single Family Home</td>\n",
              "      <td>240 Heather Ln</td>\n",
              "      <td>3.5</td>\n",
              "      <td>{'atAGlanceFacts': [{'factValue': '2019', 'fac...</td>\n",
              "      <td>Gas Logs</td>\n",
              "      <td>Southern Pines</td>\n",
              "      <td>[{'rating': ['4', '4', '7', 'NR', '4', '7', 'N...</td>\n",
              "      <td>2900</td>\n",
              "      <td>28387</td>\n",
              "      <td>4</td>\n",
              "      <td>NC</td>\n",
              "      <td>NaN</td>\n",
              "      <td>NaN</td>\n",
              "      <td>NaN</td>\n",
              "      <td>611019</td>\n",
              "      <td>$418,000</td>\n",
              "    </tr>\n",
              "  </tbody>\n",
              "</table>\n",
              "</div>\n",
              "    <div class=\"colab-df-buttons\">\n",
              "\n",
              "  <div class=\"colab-df-container\">\n",
              "    <button class=\"colab-df-convert\" onclick=\"convertToInteractive('df-ee97c633-aff3-42e0-b708-db7f823e2801')\"\n",
              "            title=\"Convert this dataframe to an interactive table.\"\n",
              "            style=\"display:none;\">\n",
              "\n",
              "  <svg xmlns=\"http://www.w3.org/2000/svg\" height=\"24px\" viewBox=\"0 -960 960 960\">\n",
              "    <path d=\"M120-120v-720h720v720H120Zm60-500h600v-160H180v160Zm220 220h160v-160H400v160Zm0 220h160v-160H400v160ZM180-400h160v-160H180v160Zm440 0h160v-160H620v160ZM180-180h160v-160H180v160Zm440 0h160v-160H620v160Z\"/>\n",
              "  </svg>\n",
              "    </button>\n",
              "\n",
              "  <style>\n",
              "    .colab-df-container {\n",
              "      display:flex;\n",
              "      gap: 12px;\n",
              "    }\n",
              "\n",
              "    .colab-df-convert {\n",
              "      background-color: #E8F0FE;\n",
              "      border: none;\n",
              "      border-radius: 50%;\n",
              "      cursor: pointer;\n",
              "      display: none;\n",
              "      fill: #1967D2;\n",
              "      height: 32px;\n",
              "      padding: 0 0 0 0;\n",
              "      width: 32px;\n",
              "    }\n",
              "\n",
              "    .colab-df-convert:hover {\n",
              "      background-color: #E2EBFA;\n",
              "      box-shadow: 0px 1px 2px rgba(60, 64, 67, 0.3), 0px 1px 3px 1px rgba(60, 64, 67, 0.15);\n",
              "      fill: #174EA6;\n",
              "    }\n",
              "\n",
              "    .colab-df-buttons div {\n",
              "      margin-bottom: 4px;\n",
              "    }\n",
              "\n",
              "    [theme=dark] .colab-df-convert {\n",
              "      background-color: #3B4455;\n",
              "      fill: #D2E3FC;\n",
              "    }\n",
              "\n",
              "    [theme=dark] .colab-df-convert:hover {\n",
              "      background-color: #434B5C;\n",
              "      box-shadow: 0px 1px 3px 1px rgba(0, 0, 0, 0.15);\n",
              "      filter: drop-shadow(0px 1px 2px rgba(0, 0, 0, 0.3));\n",
              "      fill: #FFFFFF;\n",
              "    }\n",
              "  </style>\n",
              "\n",
              "    <script>\n",
              "      const buttonEl =\n",
              "        document.querySelector('#df-ee97c633-aff3-42e0-b708-db7f823e2801 button.colab-df-convert');\n",
              "      buttonEl.style.display =\n",
              "        google.colab.kernel.accessAllowed ? 'block' : 'none';\n",
              "\n",
              "      async function convertToInteractive(key) {\n",
              "        const element = document.querySelector('#df-ee97c633-aff3-42e0-b708-db7f823e2801');\n",
              "        const dataTable =\n",
              "          await google.colab.kernel.invokeFunction('convertToInteractive',\n",
              "                                                    [key], {});\n",
              "        if (!dataTable) return;\n",
              "\n",
              "        const docLinkHtml = 'Like what you see? Visit the ' +\n",
              "          '<a target=\"_blank\" href=https://colab.research.google.com/notebooks/data_table.ipynb>data table notebook</a>'\n",
              "          + ' to learn more about interactive tables.';\n",
              "        element.innerHTML = '';\n",
              "        dataTable['output_type'] = 'display_data';\n",
              "        await google.colab.output.renderOutput(dataTable, element);\n",
              "        const docLink = document.createElement('div');\n",
              "        docLink.innerHTML = docLinkHtml;\n",
              "        element.appendChild(docLink);\n",
              "      }\n",
              "    </script>\n",
              "  </div>\n",
              "\n",
              "    </div>\n",
              "  </div>\n"
            ]
          },
          "metadata": {},
          "execution_count": 13
        }
      ]
    },
    {
      "cell_type": "code",
      "source": [
        "info = pd.DataFrame(df.isnull().sum(),columns=[\"IsNull\"])\n",
        "info.insert(1,\"IsNa\",df.isna().sum(),True)\n",
        "info.insert(2,\"Duplicate\",df.duplicated().sum(),True)\n",
        "info.insert(3,\"Unique\",df.nunique(),True)\n",
        "info.insert(4,\"count\",df.count(),True)\n",
        "info.insert(4,\"type\",df.dtypes,True)\n",
        "info.T"
      ],
      "metadata": {
        "colab": {
          "base_uri": "https://localhost:8080/",
          "height": 275
        },
        "id": "ExxaeiD0kRII",
        "outputId": "748749b8-f4ed-4607-b54d-d97b98ca0c2a"
      },
      "execution_count": 14,
      "outputs": [
        {
          "output_type": "execute_result",
          "data": {
            "text/plain": [
              "           status private pool propertyType  street   baths homeFacts  \\\n",
              "IsNull      39918       373004        34733       2  106338         0   \n",
              "IsNa        39918       373004        34733       2  106338         0   \n",
              "Duplicate      50           50           50      50      50        50   \n",
              "Unique        159            1         1280  337076     229    321009   \n",
              "type       object       object       object  object  object    object   \n",
              "count      337267         4181       342452  377183  270847    377185   \n",
              "\n",
              "          fireplace    city schools    sqft zipcode    beds   state stories  \\\n",
              "IsNull       274070      34       0   40577       0   91282       0  150715   \n",
              "IsNa         274070      34       0   40577       0   91282       0  150715   \n",
              "Duplicate        50      50      50      50      50      50      50      50   \n",
              "Unique         1653    2026  297365   25405    4549    1184      39     348   \n",
              "type         object  object  object  object  object  object  object  object   \n",
              "count        103115  377151  377185  336608  377185  285903  377185  226470   \n",
              "\n",
              "           mls-id PrivatePool   MlsId  target  \n",
              "IsNull     352243      336874   66880    2481  \n",
              "IsNa       352243      336874   66880    2481  \n",
              "Duplicate      50          50      50      50  \n",
              "Unique      24907           2  232944   43939  \n",
              "type       object      object  object  object  \n",
              "count       24942       40311  310305  374704  "
            ],
            "text/html": [
              "\n",
              "  <div id=\"df-c0c022e8-6215-450f-ba42-2b2ec78e47dd\" class=\"colab-df-container\">\n",
              "    <div>\n",
              "<style scoped>\n",
              "    .dataframe tbody tr th:only-of-type {\n",
              "        vertical-align: middle;\n",
              "    }\n",
              "\n",
              "    .dataframe tbody tr th {\n",
              "        vertical-align: top;\n",
              "    }\n",
              "\n",
              "    .dataframe thead th {\n",
              "        text-align: right;\n",
              "    }\n",
              "</style>\n",
              "<table border=\"1\" class=\"dataframe\">\n",
              "  <thead>\n",
              "    <tr style=\"text-align: right;\">\n",
              "      <th></th>\n",
              "      <th>status</th>\n",
              "      <th>private pool</th>\n",
              "      <th>propertyType</th>\n",
              "      <th>street</th>\n",
              "      <th>baths</th>\n",
              "      <th>homeFacts</th>\n",
              "      <th>fireplace</th>\n",
              "      <th>city</th>\n",
              "      <th>schools</th>\n",
              "      <th>sqft</th>\n",
              "      <th>zipcode</th>\n",
              "      <th>beds</th>\n",
              "      <th>state</th>\n",
              "      <th>stories</th>\n",
              "      <th>mls-id</th>\n",
              "      <th>PrivatePool</th>\n",
              "      <th>MlsId</th>\n",
              "      <th>target</th>\n",
              "    </tr>\n",
              "  </thead>\n",
              "  <tbody>\n",
              "    <tr>\n",
              "      <th>IsNull</th>\n",
              "      <td>39918</td>\n",
              "      <td>373004</td>\n",
              "      <td>34733</td>\n",
              "      <td>2</td>\n",
              "      <td>106338</td>\n",
              "      <td>0</td>\n",
              "      <td>274070</td>\n",
              "      <td>34</td>\n",
              "      <td>0</td>\n",
              "      <td>40577</td>\n",
              "      <td>0</td>\n",
              "      <td>91282</td>\n",
              "      <td>0</td>\n",
              "      <td>150715</td>\n",
              "      <td>352243</td>\n",
              "      <td>336874</td>\n",
              "      <td>66880</td>\n",
              "      <td>2481</td>\n",
              "    </tr>\n",
              "    <tr>\n",
              "      <th>IsNa</th>\n",
              "      <td>39918</td>\n",
              "      <td>373004</td>\n",
              "      <td>34733</td>\n",
              "      <td>2</td>\n",
              "      <td>106338</td>\n",
              "      <td>0</td>\n",
              "      <td>274070</td>\n",
              "      <td>34</td>\n",
              "      <td>0</td>\n",
              "      <td>40577</td>\n",
              "      <td>0</td>\n",
              "      <td>91282</td>\n",
              "      <td>0</td>\n",
              "      <td>150715</td>\n",
              "      <td>352243</td>\n",
              "      <td>336874</td>\n",
              "      <td>66880</td>\n",
              "      <td>2481</td>\n",
              "    </tr>\n",
              "    <tr>\n",
              "      <th>Duplicate</th>\n",
              "      <td>50</td>\n",
              "      <td>50</td>\n",
              "      <td>50</td>\n",
              "      <td>50</td>\n",
              "      <td>50</td>\n",
              "      <td>50</td>\n",
              "      <td>50</td>\n",
              "      <td>50</td>\n",
              "      <td>50</td>\n",
              "      <td>50</td>\n",
              "      <td>50</td>\n",
              "      <td>50</td>\n",
              "      <td>50</td>\n",
              "      <td>50</td>\n",
              "      <td>50</td>\n",
              "      <td>50</td>\n",
              "      <td>50</td>\n",
              "      <td>50</td>\n",
              "    </tr>\n",
              "    <tr>\n",
              "      <th>Unique</th>\n",
              "      <td>159</td>\n",
              "      <td>1</td>\n",
              "      <td>1280</td>\n",
              "      <td>337076</td>\n",
              "      <td>229</td>\n",
              "      <td>321009</td>\n",
              "      <td>1653</td>\n",
              "      <td>2026</td>\n",
              "      <td>297365</td>\n",
              "      <td>25405</td>\n",
              "      <td>4549</td>\n",
              "      <td>1184</td>\n",
              "      <td>39</td>\n",
              "      <td>348</td>\n",
              "      <td>24907</td>\n",
              "      <td>2</td>\n",
              "      <td>232944</td>\n",
              "      <td>43939</td>\n",
              "    </tr>\n",
              "    <tr>\n",
              "      <th>type</th>\n",
              "      <td>object</td>\n",
              "      <td>object</td>\n",
              "      <td>object</td>\n",
              "      <td>object</td>\n",
              "      <td>object</td>\n",
              "      <td>object</td>\n",
              "      <td>object</td>\n",
              "      <td>object</td>\n",
              "      <td>object</td>\n",
              "      <td>object</td>\n",
              "      <td>object</td>\n",
              "      <td>object</td>\n",
              "      <td>object</td>\n",
              "      <td>object</td>\n",
              "      <td>object</td>\n",
              "      <td>object</td>\n",
              "      <td>object</td>\n",
              "      <td>object</td>\n",
              "    </tr>\n",
              "    <tr>\n",
              "      <th>count</th>\n",
              "      <td>337267</td>\n",
              "      <td>4181</td>\n",
              "      <td>342452</td>\n",
              "      <td>377183</td>\n",
              "      <td>270847</td>\n",
              "      <td>377185</td>\n",
              "      <td>103115</td>\n",
              "      <td>377151</td>\n",
              "      <td>377185</td>\n",
              "      <td>336608</td>\n",
              "      <td>377185</td>\n",
              "      <td>285903</td>\n",
              "      <td>377185</td>\n",
              "      <td>226470</td>\n",
              "      <td>24942</td>\n",
              "      <td>40311</td>\n",
              "      <td>310305</td>\n",
              "      <td>374704</td>\n",
              "    </tr>\n",
              "  </tbody>\n",
              "</table>\n",
              "</div>\n",
              "    <div class=\"colab-df-buttons\">\n",
              "\n",
              "  <div class=\"colab-df-container\">\n",
              "    <button class=\"colab-df-convert\" onclick=\"convertToInteractive('df-c0c022e8-6215-450f-ba42-2b2ec78e47dd')\"\n",
              "            title=\"Convert this dataframe to an interactive table.\"\n",
              "            style=\"display:none;\">\n",
              "\n",
              "  <svg xmlns=\"http://www.w3.org/2000/svg\" height=\"24px\" viewBox=\"0 -960 960 960\">\n",
              "    <path d=\"M120-120v-720h720v720H120Zm60-500h600v-160H180v160Zm220 220h160v-160H400v160Zm0 220h160v-160H400v160ZM180-400h160v-160H180v160Zm440 0h160v-160H620v160ZM180-180h160v-160H180v160Zm440 0h160v-160H620v160Z\"/>\n",
              "  </svg>\n",
              "    </button>\n",
              "\n",
              "  <style>\n",
              "    .colab-df-container {\n",
              "      display:flex;\n",
              "      gap: 12px;\n",
              "    }\n",
              "\n",
              "    .colab-df-convert {\n",
              "      background-color: #E8F0FE;\n",
              "      border: none;\n",
              "      border-radius: 50%;\n",
              "      cursor: pointer;\n",
              "      display: none;\n",
              "      fill: #1967D2;\n",
              "      height: 32px;\n",
              "      padding: 0 0 0 0;\n",
              "      width: 32px;\n",
              "    }\n",
              "\n",
              "    .colab-df-convert:hover {\n",
              "      background-color: #E2EBFA;\n",
              "      box-shadow: 0px 1px 2px rgba(60, 64, 67, 0.3), 0px 1px 3px 1px rgba(60, 64, 67, 0.15);\n",
              "      fill: #174EA6;\n",
              "    }\n",
              "\n",
              "    .colab-df-buttons div {\n",
              "      margin-bottom: 4px;\n",
              "    }\n",
              "\n",
              "    [theme=dark] .colab-df-convert {\n",
              "      background-color: #3B4455;\n",
              "      fill: #D2E3FC;\n",
              "    }\n",
              "\n",
              "    [theme=dark] .colab-df-convert:hover {\n",
              "      background-color: #434B5C;\n",
              "      box-shadow: 0px 1px 3px 1px rgba(0, 0, 0, 0.15);\n",
              "      filter: drop-shadow(0px 1px 2px rgba(0, 0, 0, 0.3));\n",
              "      fill: #FFFFFF;\n",
              "    }\n",
              "  </style>\n",
              "\n",
              "    <script>\n",
              "      const buttonEl =\n",
              "        document.querySelector('#df-c0c022e8-6215-450f-ba42-2b2ec78e47dd button.colab-df-convert');\n",
              "      buttonEl.style.display =\n",
              "        google.colab.kernel.accessAllowed ? 'block' : 'none';\n",
              "\n",
              "      async function convertToInteractive(key) {\n",
              "        const element = document.querySelector('#df-c0c022e8-6215-450f-ba42-2b2ec78e47dd');\n",
              "        const dataTable =\n",
              "          await google.colab.kernel.invokeFunction('convertToInteractive',\n",
              "                                                    [key], {});\n",
              "        if (!dataTable) return;\n",
              "\n",
              "        const docLinkHtml = 'Like what you see? Visit the ' +\n",
              "          '<a target=\"_blank\" href=https://colab.research.google.com/notebooks/data_table.ipynb>data table notebook</a>'\n",
              "          + ' to learn more about interactive tables.';\n",
              "        element.innerHTML = '';\n",
              "        dataTable['output_type'] = 'display_data';\n",
              "        await google.colab.output.renderOutput(dataTable, element);\n",
              "        const docLink = document.createElement('div');\n",
              "        docLink.innerHTML = docLinkHtml;\n",
              "        element.appendChild(docLink);\n",
              "      }\n",
              "    </script>\n",
              "  </div>\n",
              "\n",
              "\n",
              "<div id=\"df-20e31e43-dbd2-4d09-84a0-579c0baaaa30\">\n",
              "  <button class=\"colab-df-quickchart\" onclick=\"quickchart('df-20e31e43-dbd2-4d09-84a0-579c0baaaa30')\"\n",
              "            title=\"Suggest charts\"\n",
              "            style=\"display:none;\">\n",
              "\n",
              "<svg xmlns=\"http://www.w3.org/2000/svg\" height=\"24px\"viewBox=\"0 0 24 24\"\n",
              "     width=\"24px\">\n",
              "    <g>\n",
              "        <path d=\"M19 3H5c-1.1 0-2 .9-2 2v14c0 1.1.9 2 2 2h14c1.1 0 2-.9 2-2V5c0-1.1-.9-2-2-2zM9 17H7v-7h2v7zm4 0h-2V7h2v10zm4 0h-2v-4h2v4z\"/>\n",
              "    </g>\n",
              "</svg>\n",
              "  </button>\n",
              "\n",
              "<style>\n",
              "  .colab-df-quickchart {\n",
              "      --bg-color: #E8F0FE;\n",
              "      --fill-color: #1967D2;\n",
              "      --hover-bg-color: #E2EBFA;\n",
              "      --hover-fill-color: #174EA6;\n",
              "      --disabled-fill-color: #AAA;\n",
              "      --disabled-bg-color: #DDD;\n",
              "  }\n",
              "\n",
              "  [theme=dark] .colab-df-quickchart {\n",
              "      --bg-color: #3B4455;\n",
              "      --fill-color: #D2E3FC;\n",
              "      --hover-bg-color: #434B5C;\n",
              "      --hover-fill-color: #FFFFFF;\n",
              "      --disabled-bg-color: #3B4455;\n",
              "      --disabled-fill-color: #666;\n",
              "  }\n",
              "\n",
              "  .colab-df-quickchart {\n",
              "    background-color: var(--bg-color);\n",
              "    border: none;\n",
              "    border-radius: 50%;\n",
              "    cursor: pointer;\n",
              "    display: none;\n",
              "    fill: var(--fill-color);\n",
              "    height: 32px;\n",
              "    padding: 0;\n",
              "    width: 32px;\n",
              "  }\n",
              "\n",
              "  .colab-df-quickchart:hover {\n",
              "    background-color: var(--hover-bg-color);\n",
              "    box-shadow: 0 1px 2px rgba(60, 64, 67, 0.3), 0 1px 3px 1px rgba(60, 64, 67, 0.15);\n",
              "    fill: var(--button-hover-fill-color);\n",
              "  }\n",
              "\n",
              "  .colab-df-quickchart-complete:disabled,\n",
              "  .colab-df-quickchart-complete:disabled:hover {\n",
              "    background-color: var(--disabled-bg-color);\n",
              "    fill: var(--disabled-fill-color);\n",
              "    box-shadow: none;\n",
              "  }\n",
              "\n",
              "  .colab-df-spinner {\n",
              "    border: 2px solid var(--fill-color);\n",
              "    border-color: transparent;\n",
              "    border-bottom-color: var(--fill-color);\n",
              "    animation:\n",
              "      spin 1s steps(1) infinite;\n",
              "  }\n",
              "\n",
              "  @keyframes spin {\n",
              "    0% {\n",
              "      border-color: transparent;\n",
              "      border-bottom-color: var(--fill-color);\n",
              "      border-left-color: var(--fill-color);\n",
              "    }\n",
              "    20% {\n",
              "      border-color: transparent;\n",
              "      border-left-color: var(--fill-color);\n",
              "      border-top-color: var(--fill-color);\n",
              "    }\n",
              "    30% {\n",
              "      border-color: transparent;\n",
              "      border-left-color: var(--fill-color);\n",
              "      border-top-color: var(--fill-color);\n",
              "      border-right-color: var(--fill-color);\n",
              "    }\n",
              "    40% {\n",
              "      border-color: transparent;\n",
              "      border-right-color: var(--fill-color);\n",
              "      border-top-color: var(--fill-color);\n",
              "    }\n",
              "    60% {\n",
              "      border-color: transparent;\n",
              "      border-right-color: var(--fill-color);\n",
              "    }\n",
              "    80% {\n",
              "      border-color: transparent;\n",
              "      border-right-color: var(--fill-color);\n",
              "      border-bottom-color: var(--fill-color);\n",
              "    }\n",
              "    90% {\n",
              "      border-color: transparent;\n",
              "      border-bottom-color: var(--fill-color);\n",
              "    }\n",
              "  }\n",
              "</style>\n",
              "\n",
              "  <script>\n",
              "    async function quickchart(key) {\n",
              "      const quickchartButtonEl =\n",
              "        document.querySelector('#' + key + ' button');\n",
              "      quickchartButtonEl.disabled = true;  // To prevent multiple clicks.\n",
              "      quickchartButtonEl.classList.add('colab-df-spinner');\n",
              "      try {\n",
              "        const charts = await google.colab.kernel.invokeFunction(\n",
              "            'suggestCharts', [key], {});\n",
              "      } catch (error) {\n",
              "        console.error('Error during call to suggestCharts:', error);\n",
              "      }\n",
              "      quickchartButtonEl.classList.remove('colab-df-spinner');\n",
              "      quickchartButtonEl.classList.add('colab-df-quickchart-complete');\n",
              "    }\n",
              "    (() => {\n",
              "      let quickchartButtonEl =\n",
              "        document.querySelector('#df-20e31e43-dbd2-4d09-84a0-579c0baaaa30 button');\n",
              "      quickchartButtonEl.style.display =\n",
              "        google.colab.kernel.accessAllowed ? 'block' : 'none';\n",
              "    })();\n",
              "  </script>\n",
              "</div>\n",
              "    </div>\n",
              "  </div>\n"
            ]
          },
          "metadata": {},
          "execution_count": 14
        }
      ]
    },
    {
      "cell_type": "markdown",
      "source": [
        "**обработка признаков**"
      ],
      "metadata": {
        "id": "LEaHN4Y0lRv7"
      }
    },
    {
      "cell_type": "code",
      "source": [
        "df.drop('private pool', axis= 1 , inplace= True )\n",
        "df.drop('fireplace', axis= 1 , inplace= True )\n",
        "df.drop('mls-id', axis= 1 , inplace= True )\n",
        "df.drop('PrivatePool', axis= 1 , inplace= True )\n",
        "df.drop('street', axis= 1 , inplace= True )\n",
        "df.drop('MlsId', axis= 1 , inplace= True )"
      ],
      "metadata": {
        "id": "3unjaYuQmkbM"
      },
      "execution_count": 15,
      "outputs": []
    },
    {
      "cell_type": "markdown",
      "source": [
        "target"
      ],
      "metadata": {
        "id": "zabeODkblk4U"
      }
    },
    {
      "cell_type": "code",
      "source": [
        "df[\"target\"] = df[\"target\"].str.replace(r\"[^\\d\\.]\", \"\", regex=True)\n",
        "df['target']=df['target'].str.replace('.', '', regex=True)\n",
        "df['target']=df['target'].replace('', np.nan).bfill()\n",
        "df['target']  = pd.to_numeric(df['target'] , errors='coerce')\n",
        "df['target'].astype(int)"
      ],
      "metadata": {
        "id": "P0CYrIJskasp",
        "colab": {
          "base_uri": "https://localhost:8080/"
        },
        "outputId": "2ff0330e-f650-4004-c6d4-cad6596a1abc"
      },
      "execution_count": 16,
      "outputs": [
        {
          "output_type": "execute_result",
          "data": {
            "text/plain": [
              "0          418000\n",
              "1          310000\n",
              "2         2895000\n",
              "3         2395000\n",
              "4            5000\n",
              "           ...   \n",
              "377180    1249000\n",
              "377181     674999\n",
              "377182     528000\n",
              "377183      34500\n",
              "377184     204900\n",
              "Name: target, Length: 377185, dtype: int64"
            ]
          },
          "metadata": {},
          "execution_count": 16
        }
      ]
    },
    {
      "cell_type": "code",
      "source": [
        "import seaborn as sns\n",
        "sns.boxplot(x='target', data=df);"
      ],
      "metadata": {
        "id": "U7mp3SI3lgNw",
        "colab": {
          "base_uri": "https://localhost:8080/",
          "height": 449
        },
        "outputId": "afdea0e2-49b8-42c4-e47e-13ef3e39fc37"
      },
      "execution_count": 17,
      "outputs": [
        {
          "output_type": "display_data",
          "data": {
            "text/plain": [
              "<Figure size 640x480 with 1 Axes>"
            ],
            "image/png": "[encoded data removed]"
          },
          "metadata": {}
        }
      ]
    },
    {
      "cell_type": "code",
      "source": [
        "df=df[df.target < 800000]"
      ],
      "metadata": {
        "id": "u4s1JwxBmPGc"
      },
      "execution_count": 18,
      "outputs": []
    },
    {
      "cell_type": "code",
      "source": [
        "# удалим дублекаты\n",
        "df=df.drop_duplicates ()"
      ],
      "metadata": {
        "id": "M8070NzOm7nJ"
      },
      "execution_count": 19,
      "outputs": []
    },
    {
      "cell_type": "markdown",
      "source": [],
      "metadata": {
        "id": "xiqmznMlo_Lb"
      }
    },
    {
      "cell_type": "code",
      "source": [
        "ax = sns.boxplot(df, x='target', y='state', orient='h', medianprops={\"color\": \"red\", \"linestyle\": '--'})\n",
        "ax.set(xlabel='Target', ylabel='state')\n",
        "plt.title('Зависимость просрочки от перврначального взноса' )\n",
        "plt.show()"
      ],
      "metadata": {
        "id": "oC0UxSQ0oCmC",
        "colab": {
          "base_uri": "https://localhost:8080/",
          "height": 472
        },
        "outputId": "5afebe14-3600-45c5-e38e-6fa3a0557772"
      },
      "execution_count": 20,
      "outputs": [
        {
          "output_type": "display_data",
          "data": {
            "text/plain": [
              "<Figure size 640x480 with 1 Axes>"
            ],
            "image/png": "[encoded data removed]"
          },
          "metadata": {}
        }
      ]
    },
    {
      "cell_type": "markdown",
      "source": [
        "\t**Status**"
      ],
      "metadata": {
        "id": "DwxTBMMMpGBz"
      }
    },
    {
      "cell_type": "code",
      "source": [
        "df['Status']= df['status'].astype(str)\n",
        "df['Status']=df['Status'].apply(lambda x: x.replace(\".\", ''))\n",
        "df['Status']= df['Status'].str.lower()\n",
        "df['Status']= df['Status'].str.replace('24', '')\n",
        "df['Status']= df['Status'].str.replace('23', '')\n",
        "df['Status']= df['Status'].str.replace('26', '')\n",
        "df['Status']= df['Status'].str.replace('29', '')\n",
        "df['Status']= df['Status'].str.replace('17', '')\n",
        "df['Status']= df['Status'].str.replace('21', '')\n",
        "df['Status']= df['Status'].str.replace('15', '')\n",
        "df['Status']= df['Status'].str.replace('8', '')\n",
        "df['Status']= df['Status'].str.replace('11', '')\n",
        "df['Status']= df['Status'].str.replace('14', '')\n",
        "df['Status']= df['Status'].str.replace(' Dec ', '')\n",
        "df['Status']= df['Status'].str.replace(' Nov ', '')\n",
        "df['Status']= df['Status'].str.replace(' Oct ', '')\n",
        "df['Status']= df['Status'].str.replace('nan', '')\n",
        "df['Status'] = df['Status'].str.replace('coming soon:', 'for sale')\n",
        "df['Status']= df['Status'].str.replace('temporary for sale', 'for sale')\n",
        "#df['Status']= df['Status'].str.replace('Pending W/Backup Wanted', 'pending')\n",
        "#df['Status']= df['Status'].str.replace('Pending Backups Wanted', 'pending')\n",
        "#df['Status']= df['Status'].str.replace('Pending W/Escape Clause', 'pending')\n",
        "#df['Status']= df['Status'].str.replace('Pending Take Backups', 'pending')\n",
        "df['Status']=df['Status'].str.replace('for sale under contract', 'under contract')\n",
        "df['Status']=df['Status'].str.replace('under contract show', 'under contract')\n",
        "df['Status']=df['Status'].str.replace('under contract   showing', 'under contract')\n",
        "df['Status']= df['Status'].str.replace('a for sale', 'for sale')\n",
        "#df['Status']= df['Status'].str.replace('pre-foreclosure / auction', 'pre-foreclosure')\n",
        "df['Status']= df['Status'].str.replace('pending continue to show', 'pending')\n",
        "df['Status']= df['Status'].str.replace('option pending', 'pending')\n",
        "df['Status']= df['Status'].str.replace(' / auction', 'auction')\n",
        "df['Status']= df['Status'].str.replace('active under contract', 'under contract')\n",
        "df['Status']= df['Status'].str.replace('p pending sale', 'pending')\n",
        "df['Status']= df['Status'].str.replace('contingent fice and inspection', 'contingent')\n",
        "df['Status']= df['Status'].str.replace('contingent show', 'contingent')\n",
        "df['Status']= df['Status'].str.replace('a active', 'active')\n",
        "df['Status']= df['Status'].str.replace('for sale nov', 'for sale')\n",
        "df['Status']= df['Status'].str.replace('new', 'for sale')\n",
        "df['Status']= df['Status'].str.replace('under contract backups', 'under contract')\n",
        "df['Status']= df['Status'].str.replace('pre-foreclosureauction', 'pre-foreclosure')\n",
        "df['Status'].fillna(df['Status'].mode()[0], inplace=True)\n",
        "df['Status']= df['Status'].replace('', np.nan).bfill()"
      ],
      "metadata": {
        "id": "-rhAfHIjptmI"
      },
      "execution_count": 21,
      "outputs": []
    },
    {
      "cell_type": "code",
      "source": [
        "df['Status']= df['Status'].str.replace('back on market', 'for sale')"
      ],
      "metadata": {
        "id": "fx2VQDKUtGhq"
      },
      "execution_count": 22,
      "outputs": []
    },
    {
      "cell_type": "code",
      "source": [
        "t=df['Status'].value_counts()\n",
        "t.head(40)"
      ],
      "metadata": {
        "id": "nLl29xQ3qAcN",
        "colab": {
          "base_uri": "https://localhost:8080/"
        },
        "outputId": "b1b3433c-2a84-4506-81a5-d635d9d2b99d"
      },
      "execution_count": 23,
      "outputs": [
        {
          "output_type": "execute_result",
          "data": {
            "text/plain": [
              "for sale                             185850\n",
              "active                                97732\n",
              "foreclosure                            7135\n",
              "pending                                5372\n",
              "for sale construction                  4808\n",
              "pre-foreclosure                        3930\n",
              "under contract                         3463\n",
              "auction                                1474\n",
              "p                                      1263\n",
              "contingent                             1030\n",
              "price change                            508\n",
              "foreclosed                              485\n",
              "for rent                                439\n",
              "recently sold                           265\n",
              "pending taking backups                   64\n",
              "option contract                          61\n",
              "pending with contingencies               54\n",
              "active with offer                        50\n",
              "active backup                            41\n",
              "pi                                       38\n",
              "contract p                               36\n",
              "c                                        35\n",
              "auction - active                         29\n",
              "due diligence period                     28\n",
              "contract contingent on buyer sale        27\n",
              "c continue show                          19\n",
              "for sale                                 19\n",
              "listing extended                         18\n",
              "closed                                   18\n",
              "active/contingent                        18\n",
              "offer pending signature                  18\n",
              "contingent take backup                   15\n",
              "pending - taking backups                 15\n",
              "contingent   show                        15\n",
              "ct insp - inspection contingency         14\n",
              "active with contingencies                14\n",
              "pending w/insp fice                      13\n",
              "u under contract                         12\n",
              "contingent escape                        11\n",
              "active - auction                         11\n",
              "Name: Status, dtype: int64"
            ]
          },
          "metadata": {},
          "execution_count": 23
        }
      ]
    },
    {
      "cell_type": "code",
      "source": [
        "df=df.drop_duplicates ()"
      ],
      "metadata": {
        "id": "qG2anV6YA42h"
      },
      "execution_count": 24,
      "outputs": []
    },
    {
      "cell_type": "code",
      "source": [
        "df.drop('status', axis= 1 , inplace= True )"
      ],
      "metadata": {
        "id": "HQol3nWNvyAI"
      },
      "execution_count": 25,
      "outputs": []
    },
    {
      "cell_type": "code",
      "source": [
        "type_list = []\n",
        "for type in df['Status']:\n",
        "    if type not in ['for sale' ,'active' ,'foreclosure' ,'for sale construction','active construction','pendingending'  ,'pendingre-foreclosure'  ,'under contract'  ,'auction' ,'contingent' ,\n",
        "'price change' ,'foreclosed' ,'recently sold','option pending ','pending taking backups','option contract', 'active backup','pending with contingencies','active with offer']:\n",
        "      type = 'other'\n",
        "    type_list.append(type)\n",
        "df['Status'] = type_list\n",
        "df['Status'].fillna(df['Status'].mode()[0], inplace=True)"
      ],
      "metadata": {
        "id": "GcJ81Fdor8hQ"
      },
      "execution_count": 26,
      "outputs": []
    },
    {
      "cell_type": "code",
      "source": [
        "df['Status'].value_counts()"
      ],
      "metadata": {
        "colab": {
          "base_uri": "https://localhost:8080/"
        },
        "id": "p2rEjCH0lzA1",
        "outputId": "420c33cf-067c-4b9c-ba9f-3843b276d309"
      },
      "execution_count": 27,
      "outputs": [
        {
          "output_type": "execute_result",
          "data": {
            "text/plain": [
              "for sale                      185850\n",
              "active                         97732\n",
              "other                          11702\n",
              "foreclosure                     7135\n",
              "for sale construction           4808\n",
              "under contract                  3463\n",
              "auction                         1474\n",
              "contingent                      1030\n",
              "price change                     508\n",
              "foreclosed                       485\n",
              "recently sold                    265\n",
              "pending taking backups            64\n",
              "option contract                   61\n",
              "pending with contingencies        54\n",
              "active with offer                 50\n",
              "active backup                     41\n",
              "Name: Status, dtype: int64"
            ]
          },
          "metadata": {},
          "execution_count": 27
        }
      ]
    },
    {
      "cell_type": "code",
      "source": [
        "ax = sns.boxplot(df, x='target', y='Status', orient='h', medianprops={\"color\": \"red\", \"linestyle\": '--'})\n",
        "ax.set(xlabel='t', ylabel='Status')\n",
        "plt.title('...' )\n",
        "plt.show()"
      ],
      "metadata": {
        "id": "sOIfPzQwqN-O",
        "colab": {
          "base_uri": "https://localhost:8080/",
          "height": 472
        },
        "outputId": "b5e9dbc8-0425-4812-d0b6-222ddb711307"
      },
      "execution_count": 28,
      "outputs": [
        {
          "output_type": "display_data",
          "data": {
            "text/plain": [
              "<Figure size 640x480 with 1 Axes>"
            ],
            "image/png": "[encoded data removed]"
          },
          "metadata": {}
        }
      ]
    },
    {
      "cell_type": "markdown",
      "source": [
        "propertyType"
      ],
      "metadata": {
        "id": "KAcj4nHMuyQP"
      }
    },
    {
      "cell_type": "code",
      "source": [
        "df['propertyType'] = df['propertyType'].str.lower()\n",
        "df['propertyType'] = df['propertyType'].str.replace('-', ' ')\n",
        "df['propertyType'] = df['propertyType'].str.replace('single family home', 'single family')\n",
        "df['propertyType'] = df['propertyType'].str.replace('mfd/Mmobile home', 'mobile Home')\n",
        "df['propertyType'] = df['propertyType'].str.replace('mobile/manufactured', 'mobile Home')\n",
        "df['propertyType'] = df['propertyType'].str.replace('mobile / manufactured', 'mobile Home')\n",
        "df['propertyType'] = df['propertyType'].str.replace('condo/townhome/row home/co-op', 'condo')\n",
        "df['propertyType'] = df['propertyType'].str.replace('condo', 'condo')\n",
        "df['propertyType'] = df['propertyType'].str.replace('townhouse', 'townhouse')\n",
        "df['propertyType'] = df['propertyType'].str.replace('multi family home', 'multi family')\n",
        "df['propertyType'] = df['propertyType'].str.replace('contemporary/modern', 'contemporary')\n",
        "df['propertyType'] = df['propertyType'].str.replace('lot/land', 'land')\n",
        "df['propertyType'] = df['propertyType'].str.replace('one story', '1 story')\n",
        "df['propertyType'] = df['propertyType'].str.replace('two story', '2 story')\n",
        "df['propertyType'] = df['propertyType'].str.replace('detached, ', '')\n",
        "df['propertyType'] = df['propertyType'].str.replace('2 stories', '2 story')\n",
        "df['propertyType'] = df['propertyType'].str.replace('ranch', 'farms/ranches')\n",
        "df['propertyType'] = df['propertyType'].str.replace(', traditional', '')\n",
        "df['propertyType'] = df['propertyType'].str.replace('coop', 'cooperative')\n",
        "df['propertyType'] = df['propertyType'].str.replace('farms/farms/farms/farms/rancheseseses\t', 'farms/ranches')\n",
        "df['propertyType'] = df['propertyType'].str.replace('farms/farms/farms/rancheseses', 'farms/ranches')\n",
        "df['propertyType'] = df['propertyType'].str.replace('farms/farms/rancheses', 'farms/ranches')\n",
        "df['propertyType'] = df['propertyType'].str.replace('apartment', 'apartment')\n",
        "df['propertyType'] = df['propertyType'].str.replace('singlefamilyresidence', 'single family')\n",
        "df['propertyType'] = df['propertyType'].str.replace('single detached', 'single family')\n",
        "df['propertyType'] = df['propertyType'].str.replace('single traditional', 'single family')\n",
        "df['propertyType'] = df['propertyType'].str.replace('single contemporary', 'single family')\n",
        "df['propertyType'] = df['propertyType'].str.replace('condo/townhome, contemporary\t', 'condo')\n",
        "df['propertyType'] = df['propertyType'].str.replace('condo/townhome', 'condo')\n",
        "df['propertyType'] = df['propertyType'].str.replace(', contemporary', '')\n",
        "df['propertyType'] = df['propertyType'].str.replace('condo/townhome', 'condo')\n",
        "df['propertyType'] = df['propertyType'].str.replace(', traditional', '')\n",
        "df['propertyType'] = df['propertyType'].str.replace(', modern', '')\n",
        "df['propertyType'] = df['propertyType'].str.replace('/unit', '')\n",
        "df['propertyType'] = df['propertyType'].str.replace('land', 'farms/ranches')\n",
        "df['propertyType'] = df['propertyType'].str.replace('1 story, spanish/mediterranean', '1 story')\n",
        "df['propertyType'] = df['propertyType'].str.replace('1 story with basement', '1 Story')\n",
        "df['propertyType'] = df['propertyType'].replace('', np.nan).bfill()"
      ],
      "metadata": {
        "id": "4TaJiN1buzA2"
      },
      "execution_count": 29,
      "outputs": []
    },
    {
      "cell_type": "code",
      "source": [
        "a=df['propertyType'].value_counts()\n",
        "a.head(35)"
      ],
      "metadata": {
        "id": "LfKjRm9PvPRh",
        "colab": {
          "base_uri": "https://localhost:8080/"
        },
        "outputId": "c8b4b62f-e98c-44cb-bbc7-697e8335b581"
      },
      "execution_count": 30,
      "outputs": [
        {
          "output_type": "execute_result",
          "data": {
            "text/plain": [
              "single family                 177135\n",
              "condo                          37189\n",
              "farms/ranches                  33375\n",
              "townhouse                      17794\n",
              "multi family                    8272\n",
              "condo/row home/co op            7262\n",
              "traditional                     5694\n",
              "1 story                         3663\n",
              "mobile Home                     2908\n",
              "cooperative                     2777\n",
              "contemporary                    2518\n",
              "2 story                         2171\n",
              "high rise                       1447\n",
              "colonial                        1089\n",
              "mfd/mobile home                  883\n",
              "apartment                        748\n",
              "florida                          569\n",
              "transitional                     499\n",
              "cooperativeerative               490\n",
              "bungalow                         483\n",
              "garden home                      325\n",
              "cape cod                         308\n",
              "other style                      262\n",
              "spanish/mediterranean            220\n",
              "condominium (single level)       212\n",
              "split level                      204\n",
              "craftsman                        188\n",
              "multiple occupancy               144\n",
              "single farms/ranches             136\n",
              "other                            136\n",
              "farms/ranches, 1 story           135\n",
              "cluster home                     123\n",
              "                                 123\n",
              "mediterranean                    106\n",
              "traditional, transitional        101\n",
              "Name: propertyType, dtype: int64"
            ]
          },
          "metadata": {},
          "execution_count": 30
        }
      ]
    },
    {
      "cell_type": "code",
      "source": [
        "type_list = []\n",
        "for type in df['propertyType']:\n",
        "    if type not in ['single family', 'condo','townhouse','multi family','condo/row home/co op' ,'traditional' ,'1 story' ,'cooperative' ,'contemporary' ,'mobile Home ','farms/ranches'  ,\n",
        "'high rise','2 story','colonial','apartment','transitional','florida']:\n",
        "      type = 'other'\n",
        "    type_list.append(type)\n",
        "df['propertyType'] = type_list\n",
        "df['propertyType'].fillna(df['propertyType'].mode()[0], inplace=True)"
      ],
      "metadata": {
        "id": "5Djc1m2rqUlN"
      },
      "execution_count": 31,
      "outputs": []
    },
    {
      "cell_type": "code",
      "source": [
        "df=df.drop_duplicates ()"
      ],
      "metadata": {
        "id": "7ivQqJfDsYKf"
      },
      "execution_count": 32,
      "outputs": []
    },
    {
      "cell_type": "code",
      "source": [
        "ax = sns.boxplot(df, x='target', y='propertyType', orient='h', medianprops={\"color\": \"red\", \"linestyle\": '--'})\n",
        "ax.set(xlabel='t', ylabel='propertyType')\n",
        "plt.title('...' )\n",
        "plt.show()"
      ],
      "metadata": {
        "colab": {
          "base_uri": "https://localhost:8080/",
          "height": 472
        },
        "id": "0HyJsL34rOox",
        "outputId": "168f3fc5-a215-45ef-a52f-f68408b1da1d"
      },
      "execution_count": 33,
      "outputs": [
        {
          "output_type": "display_data",
          "data": {
            "text/plain": [
              "<Figure size 640x480 with 1 Axes>"
            ],
            "image/png": "[encoded data removed]"
          },
          "metadata": {}
        }
      ]
    },
    {
      "cell_type": "code",
      "source": [
        "info = pd.DataFrame(df.isnull().sum(),columns=[\"IsNull\"])\n",
        "info.insert(1,\"IsNa\",df.isna().sum(),True)\n",
        "info.insert(2,\"Duplicate\",df.duplicated().sum(),True)\n",
        "info.insert(3,\"Unique\",df.nunique(),True)\n",
        "info.insert(4,\"count\",df.count(),True)\n",
        "info.insert(4,\"type\",df.dtypes,True)\n",
        "info.T"
      ],
      "metadata": {
        "colab": {
          "base_uri": "https://localhost:8080/",
          "height": 237
        },
        "id": "XnQHHoBNl4p5",
        "outputId": "2ee2e050-dd0b-41ee-8c44-013cca40d272"
      },
      "execution_count": 34,
      "outputs": [
        {
          "output_type": "execute_result",
          "data": {
            "text/plain": [
              "          propertyType   baths homeFacts    city schools    sqft zipcode  \\\n",
              "IsNull               0   90057         0      24       0   32181       0   \n",
              "IsNa                 0   90057         0      24       0   32181       0   \n",
              "Duplicate            0       0         0       0       0       0       0   \n",
              "Unique              17     154    267973    1898  253397   18221    4419   \n",
              "type            object  object    object  object  object  object  object   \n",
              "count           314713  224656    314713  314689  314713  282532  314713   \n",
              "\n",
              "             beds   state stories  target  Status  \n",
              "IsNull      76355       0  121982       0       0  \n",
              "IsNa        76355       0  121982       0       0  \n",
              "Duplicate       0       0       0       0       0  \n",
              "Unique       1006      39     299   28439      16  \n",
              "type       object  object  object   int64  object  \n",
              "count      238358  314713  192731  314713  314713  "
            ],
            "text/html": [
              "\n",
              "  <div id=\"df-2a1f3253-8b9f-4447-bade-8fd71cdc7eb0\" class=\"colab-df-container\">\n",
              "    <div>\n",
              "<style scoped>\n",
              "    .dataframe tbody tr th:only-of-type {\n",
              "        vertical-align: middle;\n",
              "    }\n",
              "\n",
              "    .dataframe tbody tr th {\n",
              "        vertical-align: top;\n",
              "    }\n",
              "\n",
              "    .dataframe thead th {\n",
              "        text-align: right;\n",
              "    }\n",
              "</style>\n",
              "<table border=\"1\" class=\"dataframe\">\n",
              "  <thead>\n",
              "    <tr style=\"text-align: right;\">\n",
              "      <th></th>\n",
              "      <th>propertyType</th>\n",
              "      <th>baths</th>\n",
              "      <th>homeFacts</th>\n",
              "      <th>city</th>\n",
              "      <th>schools</th>\n",
              "      <th>sqft</th>\n",
              "      <th>zipcode</th>\n",
              "      <th>beds</th>\n",
              "      <th>state</th>\n",
              "      <th>stories</th>\n",
              "      <th>target</th>\n",
              "      <th>Status</th>\n",
              "    </tr>\n",
              "  </thead>\n",
              "  <tbody>\n",
              "    <tr>\n",
              "      <th>IsNull</th>\n",
              "      <td>0</td>\n",
              "      <td>90057</td>\n",
              "      <td>0</td>\n",
              "      <td>24</td>\n",
              "      <td>0</td>\n",
              "      <td>32181</td>\n",
              "      <td>0</td>\n",
              "      <td>76355</td>\n",
              "      <td>0</td>\n",
              "      <td>121982</td>\n",
              "      <td>0</td>\n",
              "      <td>0</td>\n",
              "    </tr>\n",
              "    <tr>\n",
              "      <th>IsNa</th>\n",
              "      <td>0</td>\n",
              "      <td>90057</td>\n",
              "      <td>0</td>\n",
              "      <td>24</td>\n",
              "      <td>0</td>\n",
              "      <td>32181</td>\n",
              "      <td>0</td>\n",
              "      <td>76355</td>\n",
              "      <td>0</td>\n",
              "      <td>121982</td>\n",
              "      <td>0</td>\n",
              "      <td>0</td>\n",
              "    </tr>\n",
              "    <tr>\n",
              "      <th>Duplicate</th>\n",
              "      <td>0</td>\n",
              "      <td>0</td>\n",
              "      <td>0</td>\n",
              "      <td>0</td>\n",
              "      <td>0</td>\n",
              "      <td>0</td>\n",
              "      <td>0</td>\n",
              "      <td>0</td>\n",
              "      <td>0</td>\n",
              "      <td>0</td>\n",
              "      <td>0</td>\n",
              "      <td>0</td>\n",
              "    </tr>\n",
              "    <tr>\n",
              "      <th>Unique</th>\n",
              "      <td>17</td>\n",
              "      <td>154</td>\n",
              "      <td>267973</td>\n",
              "      <td>1898</td>\n",
              "      <td>253397</td>\n",
              "      <td>18221</td>\n",
              "      <td>4419</td>\n",
              "      <td>1006</td>\n",
              "      <td>39</td>\n",
              "      <td>299</td>\n",
              "      <td>28439</td>\n",
              "      <td>16</td>\n",
              "    </tr>\n",
              "    <tr>\n",
              "      <th>type</th>\n",
              "      <td>object</td>\n",
              "      <td>object</td>\n",
              "      <td>object</td>\n",
              "      <td>object</td>\n",
              "      <td>object</td>\n",
              "      <td>object</td>\n",
              "      <td>object</td>\n",
              "      <td>object</td>\n",
              "      <td>object</td>\n",
              "      <td>object</td>\n",
              "      <td>int64</td>\n",
              "      <td>object</td>\n",
              "    </tr>\n",
              "    <tr>\n",
              "      <th>count</th>\n",
              "      <td>314713</td>\n",
              "      <td>224656</td>\n",
              "      <td>314713</td>\n",
              "      <td>314689</td>\n",
              "      <td>314713</td>\n",
              "      <td>282532</td>\n",
              "      <td>314713</td>\n",
              "      <td>238358</td>\n",
              "      <td>314713</td>\n",
              "      <td>192731</td>\n",
              "      <td>314713</td>\n",
              "      <td>314713</td>\n",
              "    </tr>\n",
              "  </tbody>\n",
              "</table>\n",
              "</div>\n",
              "    <div class=\"colab-df-buttons\">\n",
              "\n",
              "  <div class=\"colab-df-container\">\n",
              "    <button class=\"colab-df-convert\" onclick=\"convertToInteractive('df-2a1f3253-8b9f-4447-bade-8fd71cdc7eb0')\"\n",
              "            title=\"Convert this dataframe to an interactive table.\"\n",
              "            style=\"display:none;\">\n",
              "\n",
              "  <svg xmlns=\"http://www.w3.org/2000/svg\" height=\"24px\" viewBox=\"0 -960 960 960\">\n",
              "    <path d=\"M120-120v-720h720v720H120Zm60-500h600v-160H180v160Zm220 220h160v-160H400v160Zm0 220h160v-160H400v160ZM180-400h160v-160H180v160Zm440 0h160v-160H620v160ZM180-180h160v-160H180v160Zm440 0h160v-160H620v160Z\"/>\n",
              "  </svg>\n",
              "    </button>\n",
              "\n",
              "  <style>\n",
              "    .colab-df-container {\n",
              "      display:flex;\n",
              "      gap: 12px;\n",
              "    }\n",
              "\n",
              "    .colab-df-convert {\n",
              "      background-color: #E8F0FE;\n",
              "      border: none;\n",
              "      border-radius: 50%;\n",
              "      cursor: pointer;\n",
              "      display: none;\n",
              "      fill: #1967D2;\n",
              "      height: 32px;\n",
              "      padding: 0 0 0 0;\n",
              "      width: 32px;\n",
              "    }\n",
              "\n",
              "    .colab-df-convert:hover {\n",
              "      background-color: #E2EBFA;\n",
              "      box-shadow: 0px 1px 2px rgba(60, 64, 67, 0.3), 0px 1px 3px 1px rgba(60, 64, 67, 0.15);\n",
              "      fill: #174EA6;\n",
              "    }\n",
              "\n",
              "    .colab-df-buttons div {\n",
              "      margin-bottom: 4px;\n",
              "    }\n",
              "\n",
              "    [theme=dark] .colab-df-convert {\n",
              "      background-color: #3B4455;\n",
              "      fill: #D2E3FC;\n",
              "    }\n",
              "\n",
              "    [theme=dark] .colab-df-convert:hover {\n",
              "      background-color: #434B5C;\n",
              "      box-shadow: 0px 1px 3px 1px rgba(0, 0, 0, 0.15);\n",
              "      filter: drop-shadow(0px 1px 2px rgba(0, 0, 0, 0.3));\n",
              "      fill: #FFFFFF;\n",
              "    }\n",
              "  </style>\n",
              "\n",
              "    <script>\n",
              "      const buttonEl =\n",
              "        document.querySelector('#df-2a1f3253-8b9f-4447-bade-8fd71cdc7eb0 button.colab-df-convert');\n",
              "      buttonEl.style.display =\n",
              "        google.colab.kernel.accessAllowed ? 'block' : 'none';\n",
              "\n",
              "      async function convertToInteractive(key) {\n",
              "        const element = document.querySelector('#df-2a1f3253-8b9f-4447-bade-8fd71cdc7eb0');\n",
              "        const dataTable =\n",
              "          await google.colab.kernel.invokeFunction('convertToInteractive',\n",
              "                                                    [key], {});\n",
              "        if (!dataTable) return;\n",
              "\n",
              "        const docLinkHtml = 'Like what you see? Visit the ' +\n",
              "          '<a target=\"_blank\" href=https://colab.research.google.com/notebooks/data_table.ipynb>data table notebook</a>'\n",
              "          + ' to learn more about interactive tables.';\n",
              "        element.innerHTML = '';\n",
              "        dataTable['output_type'] = 'display_data';\n",
              "        await google.colab.output.renderOutput(dataTable, element);\n",
              "        const docLink = document.createElement('div');\n",
              "        docLink.innerHTML = docLinkHtml;\n",
              "        element.appendChild(docLink);\n",
              "      }\n",
              "    </script>\n",
              "  </div>\n",
              "\n",
              "\n",
              "<div id=\"df-948938c9-c20d-4b51-b0c4-2cf8434d9355\">\n",
              "  <button class=\"colab-df-quickchart\" onclick=\"quickchart('df-948938c9-c20d-4b51-b0c4-2cf8434d9355')\"\n",
              "            title=\"Suggest charts\"\n",
              "            style=\"display:none;\">\n",
              "\n",
              "<svg xmlns=\"http://www.w3.org/2000/svg\" height=\"24px\"viewBox=\"0 0 24 24\"\n",
              "     width=\"24px\">\n",
              "    <g>\n",
              "        <path d=\"M19 3H5c-1.1 0-2 .9-2 2v14c0 1.1.9 2 2 2h14c1.1 0 2-.9 2-2V5c0-1.1-.9-2-2-2zM9 17H7v-7h2v7zm4 0h-2V7h2v10zm4 0h-2v-4h2v4z\"/>\n",
              "    </g>\n",
              "</svg>\n",
              "  </button>\n",
              "\n",
              "<style>\n",
              "  .colab-df-quickchart {\n",
              "      --bg-color: #E8F0FE;\n",
              "      --fill-color: #1967D2;\n",
              "      --hover-bg-color: #E2EBFA;\n",
              "      --hover-fill-color: #174EA6;\n",
              "      --disabled-fill-color: #AAA;\n",
              "      --disabled-bg-color: #DDD;\n",
              "  }\n",
              "\n",
              "  [theme=dark] .colab-df-quickchart {\n",
              "      --bg-color: #3B4455;\n",
              "      --fill-color: #D2E3FC;\n",
              "      --hover-bg-color: #434B5C;\n",
              "      --hover-fill-color: #FFFFFF;\n",
              "      --disabled-bg-color: #3B4455;\n",
              "      --disabled-fill-color: #666;\n",
              "  }\n",
              "\n",
              "  .colab-df-quickchart {\n",
              "    background-color: var(--bg-color);\n",
              "    border: none;\n",
              "    border-radius: 50%;\n",
              "    cursor: pointer;\n",
              "    display: none;\n",
              "    fill: var(--fill-color);\n",
              "    height: 32px;\n",
              "    padding: 0;\n",
              "    width: 32px;\n",
              "  }\n",
              "\n",
              "  .colab-df-quickchart:hover {\n",
              "    background-color: var(--hover-bg-color);\n",
              "    box-shadow: 0 1px 2px rgba(60, 64, 67, 0.3), 0 1px 3px 1px rgba(60, 64, 67, 0.15);\n",
              "    fill: var(--button-hover-fill-color);\n",
              "  }\n",
              "\n",
              "  .colab-df-quickchart-complete:disabled,\n",
              "  .colab-df-quickchart-complete:disabled:hover {\n",
              "    background-color: var(--disabled-bg-color);\n",
              "    fill: var(--disabled-fill-color);\n",
              "    box-shadow: none;\n",
              "  }\n",
              "\n",
              "  .colab-df-spinner {\n",
              "    border: 2px solid var(--fill-color);\n",
              "    border-color: transparent;\n",
              "    border-bottom-color: var(--fill-color);\n",
              "    animation:\n",
              "      spin 1s steps(1) infinite;\n",
              "  }\n",
              "\n",
              "  @keyframes spin {\n",
              "    0% {\n",
              "      border-color: transparent;\n",
              "      border-bottom-color: var(--fill-color);\n",
              "      border-left-color: var(--fill-color);\n",
              "    }\n",
              "    20% {\n",
              "      border-color: transparent;\n",
              "      border-left-color: var(--fill-color);\n",
              "      border-top-color: var(--fill-color);\n",
              "    }\n",
              "    30% {\n",
              "      border-color: transparent;\n",
              "      border-left-color: var(--fill-color);\n",
              "      border-top-color: var(--fill-color);\n",
              "      border-right-color: var(--fill-color);\n",
              "    }\n",
              "    40% {\n",
              "      border-color: transparent;\n",
              "      border-right-color: var(--fill-color);\n",
              "      border-top-color: var(--fill-color);\n",
              "    }\n",
              "    60% {\n",
              "      border-color: transparent;\n",
              "      border-right-color: var(--fill-color);\n",
              "    }\n",
              "    80% {\n",
              "      border-color: transparent;\n",
              "      border-right-color: var(--fill-color);\n",
              "      border-bottom-color: var(--fill-color);\n",
              "    }\n",
              "    90% {\n",
              "      border-color: transparent;\n",
              "      border-bottom-color: var(--fill-color);\n",
              "    }\n",
              "  }\n",
              "</style>\n",
              "\n",
              "  <script>\n",
              "    async function quickchart(key) {\n",
              "      const quickchartButtonEl =\n",
              "        document.querySelector('#' + key + ' button');\n",
              "      quickchartButtonEl.disabled = true;  // To prevent multiple clicks.\n",
              "      quickchartButtonEl.classList.add('colab-df-spinner');\n",
              "      try {\n",
              "        const charts = await google.colab.kernel.invokeFunction(\n",
              "            'suggestCharts', [key], {});\n",
              "      } catch (error) {\n",
              "        console.error('Error during call to suggestCharts:', error);\n",
              "      }\n",
              "      quickchartButtonEl.classList.remove('colab-df-spinner');\n",
              "      quickchartButtonEl.classList.add('colab-df-quickchart-complete');\n",
              "    }\n",
              "    (() => {\n",
              "      let quickchartButtonEl =\n",
              "        document.querySelector('#df-948938c9-c20d-4b51-b0c4-2cf8434d9355 button');\n",
              "      quickchartButtonEl.style.display =\n",
              "        google.colab.kernel.accessAllowed ? 'block' : 'none';\n",
              "    })();\n",
              "  </script>\n",
              "</div>\n",
              "    </div>\n",
              "  </div>\n"
            ]
          },
          "metadata": {},
          "execution_count": 34
        }
      ]
    },
    {
      "cell_type": "code",
      "source": [
        "df['homeFacts'] = df['homeFacts'].astype(str)\n",
        "df['homeFacts1'] = df['homeFacts'].apply(lambda x: x.replace('atAGlanceFacts', ''))\n",
        "df['homeFacts1'] = df['homeFacts1'].apply(lambda x: x.replace('factValue', ''))\n",
        "df['homeFacts1'] = df['homeFacts1'].apply(lambda x: x.replace('factLabel', ''))\n",
        "df['homeFacts1'] = df['homeFacts1'].apply(lambda x: x.replace('Year built', ''))\n",
        "df['homeFacts1'] = df['homeFacts1'].apply(lambda x: x.replace('Remodeled year', ''))\n",
        "df['homeFacts1'] = df['homeFacts1'].apply(lambda x: x.replace('Cooling', ''))\n",
        "df['homeFacts1'] = df['homeFacts1'].apply(lambda x: x.replace('Heating', ''))\n",
        "df['homeFacts1'] = df['homeFacts1'].apply(lambda x: x.replace('lotsize', ''))\n",
        "df['homeFacts1'] = df['homeFacts1'].apply(lambda x: x.replace('Price/sqft', ''))\n",
        "df['homeFacts1'] = df['homeFacts1'].apply(lambda x: x.replace(':', ''))\n",
        "df['homeFacts1'] = df['homeFacts1'].apply(lambda x: x.replace(',', ''))\n",
        "df['homeFacts1'] = df['homeFacts1'].apply(lambda x: x.replace('{', ''))\n",
        "df['homeFacts1'] = df['homeFacts1'].apply(lambda x: x.replace('}', ''))\n",
        "df['homeFacts1'] = df['homeFacts1'].apply(lambda x: x.replace(' sqft', ''))\n",
        "df['homeFacts1'] = df['homeFacts1'].apply(lambda x: x.replace('/sqft', ''))\n",
        "df['homeFacts1'] = df['homeFacts1'].apply(lambda x: x[:-9])\n",
        "df['homeFacts1'] = df['homeFacts1'].apply(lambda x: x[8:])\n",
        "df['Year built']= df['homeFacts1'].str.rstrip().str.split( ).str[0]\n",
        "df['Remodeled_year']= df['homeFacts1'].str.rstrip().str.split( ).str[4]\n",
        "df['Heating']= df['homeFacts1'].str.rstrip().str.split( ).str[8]\n",
        "#df['Cooling']= (df['homeFacts1'].str.rstrip().str.split( ).str[-13]+df['homeFacts1'].str.rstrip().str.split( ).str[-14])\n",
        "df['lotsize']= (df['homeFacts1'].str.rstrip().str.split( ).str[-5]+df['homeFacts1'].str.rstrip().str.split( ).str[-4])\n",
        "df['Price/sqft']= df['homeFacts1'].str.rstrip().str.split( ).str[-1]"
      ],
      "metadata": {
        "id": "3AnUB8lhuAEH"
      },
      "execution_count": 35,
      "outputs": []
    },
    {
      "cell_type": "code",
      "source": [
        "df.drop('homeFacts', axis= 1 , inplace= True )"
      ],
      "metadata": {
        "id": "IsRAyYJ70eHh"
      },
      "execution_count": 36,
      "outputs": []
    },
    {
      "cell_type": "code",
      "source": [
        "df.drop('homeFacts1', axis= 1 , inplace= True )"
      ],
      "metadata": {
        "id": "xbCl_gDK2hgt"
      },
      "execution_count": 37,
      "outputs": []
    },
    {
      "cell_type": "code",
      "source": [
        "df=df.drop_duplicates ()"
      ],
      "metadata": {
        "id": "RxImVfIsBFQ7"
      },
      "execution_count": 38,
      "outputs": []
    },
    {
      "cell_type": "code",
      "source": [
        "# Year built\n",
        "df['Year built'] = df['Year built'].str.replace(r\"[^\\d\\.]\", \"\", regex=True)\n",
        "df['Year built']=pd.to_numeric(df['Year built'], errors='coerce')\n",
        "df['Year built'] = df['Year built'].replace('', np.nan).bfill()\n",
        "#df['Year built'] = df['Year built'].fillna(df['Year built'].median())\n",
        "df['Year built'].astype(int)"
      ],
      "metadata": {
        "colab": {
          "base_uri": "https://localhost:8080/"
        },
        "id": "qNUlFKrNuE9-",
        "outputId": "53027315-d0b1-40ec-d5fa-a37abb6936ac"
      },
      "execution_count": 39,
      "outputs": [
        {
          "output_type": "execute_result",
          "data": {
            "text/plain": [
              "0         2019\n",
              "1         2019\n",
              "4         1920\n",
              "5         1920\n",
              "6         2006\n",
              "          ... \n",
              "377179    2010\n",
              "377181    1924\n",
              "377182    1950\n",
              "377183    2019\n",
              "377184    2019\n",
              "Name: Year built, Length: 314380, dtype: int64"
            ]
          },
          "metadata": {},
          "execution_count": 39
        }
      ]
    },
    {
      "cell_type": "code",
      "source": [
        "# Remodeled_year\n",
        "df['Remodeled_year']=df['Remodeled_year'].str.replace(r\"[^\\d\\.]\", \"\", regex=True)\n",
        "df['Remodeled_year']=df['Remodeled_year'].replace('', np.nan).bfill()\n",
        "df['Remodeled_year'] = pd.to_numeric(df['Remodeled_year'], errors='coerce')\n",
        "#df['Remodeled_year'].df['Remodeled_year'].fillna(df['Remodeled_year'].mode())\n",
        "#df['Remodeled_year'].astype(int).round(0)"
      ],
      "metadata": {
        "id": "95NcBrpguTpr"
      },
      "execution_count": 40,
      "outputs": []
    },
    {
      "cell_type": "code",
      "source": [
        "df['Remodeled_year'].fillna(df['Remodeled_year'].mode()[0], inplace=True)"
      ],
      "metadata": {
        "id": "8b95Pb0w8k07"
      },
      "execution_count": 41,
      "outputs": []
    },
    {
      "cell_type": "code",
      "source": [
        "# Price/sqft\n",
        "df['Price/sqft']=df['Price/sqft'].str.replace(r\"[^\\d\\.]\", \"\", regex=True)\n",
        "df['Price/sqft']=df['Price/sqft'].replace('', np.nan).bfill()\n",
        "df['Price/sqft'] = pd.to_numeric(df['Price/sqft'], errors='coerce')\n",
        "df['Price/sqft']=df['Price/sqft'].fillna(df['Price/sqft'].mode())\n",
        "df['Price/sqft'].astype(int)"
      ],
      "metadata": {
        "id": "6phJW1Clu_p6",
        "colab": {
          "base_uri": "https://localhost:8080/"
        },
        "outputId": "c9081561-a327-40be-a513-fa63454def5e"
      },
      "execution_count": 42,
      "outputs": [
        {
          "output_type": "execute_result",
          "data": {
            "text/plain": [
              "0         14\n",
              "1         15\n",
              "4         23\n",
              "5         23\n",
              "6          6\n",
              "          ..\n",
              "377179    56\n",
              "377181    33\n",
              "377182    45\n",
              "377183    14\n",
              "377184    14\n",
              "Name: Price/sqft, Length: 314380, dtype: int64"
            ]
          },
          "metadata": {},
          "execution_count": 42
        }
      ]
    },
    {
      "cell_type": "code",
      "source": [
        "# Heating\n",
        "df['Heating']=df['Heating'].apply(lambda x: x.replace(\"'\", ''))\n",
        "df['Heating']=df['Heating'].str.lower()\n",
        "df['Heating']=df['Heating'].apply(lambda x: x.replace('propane', 'gas'))\n",
        "df['Heating']=df['Heating'].apply(lambda x: x.replace('has', 'gas'))\n",
        "df['Heating']=df['Heating'].apply(lambda x: x.replace('wall/window', 'wall'))\n",
        "df['Heating']=df['Heating'].apply(lambda x: x.replace('window', 'no'))\n",
        "df['Heating']=df['Heating'].apply(lambda x: x.replace('none', 'no'))\n",
        "df['Heating']=df['Heating'].apply(lambda x: x.replace('baseboard/wall', 'baseboard'))\n",
        "df['Heating']=df['Heating'].replace('', np.nan).bfill()\n",
        "#df['Heating']=df['Heating'].fillna(df['Heating'].mode())"
      ],
      "metadata": {
        "id": "caivKzQ9vFBG"
      },
      "execution_count": 43,
      "outputs": []
    },
    {
      "cell_type": "code",
      "source": [
        "df['Heating']=df['Heating'].fillna(df['Heating'].mode())"
      ],
      "metadata": {
        "id": "IFXDKtWhx92T"
      },
      "execution_count": 44,
      "outputs": []
    },
    {
      "cell_type": "code",
      "source": [
        "t=df['lotsize'].value_counts()\n",
        "t.head(15)"
      ],
      "metadata": {
        "colab": {
          "base_uri": "https://localhost:8080/"
        },
        "id": "_fkGvm-D0CP8",
        "outputId": "14cd6dd0-2109-4d21-c0ab-55361193c40e"
      },
      "execution_count": 45,
      "outputs": [
        {
          "output_type": "execute_result",
          "data": {
            "text/plain": [
              "acres'''     43539\n",
              "''''         28399\n",
              "None''       23120\n",
              "lot'''       17819\n",
              "Data'''       4549\n",
              "'—'''         4166\n",
              "Ft.'''        3318\n",
              "Acres'''      2656\n",
              "'6098'''      2079\n",
              "'10000'''     1991\n",
              "'7405'''      1990\n",
              "'6534'''      1741\n",
              "'10019'''     1622\n",
              "'5227'''      1605\n",
              "'4356'''      1604\n",
              "Name: lotsize, dtype: int64"
            ]
          },
          "metadata": {},
          "execution_count": 45
        }
      ]
    },
    {
      "cell_type": "code",
      "source": [
        "df['lotsize']=df['lotsize'].str.replace(r\"[^\\d\\.]\", \"\", regex=True)\n",
        "df['lotsize']=df['lotsize'].apply(lambda x: x.replace(\".\", ''))\n",
        "df['lotsize']=df['lotsize'].replace('', np.nan).bfill()\n",
        "df['lotsize']=df['lotsize']. fillna(df['lotsize'].mode())\n",
        "df['lotsize'] = pd.to_numeric(df['lotsize'], errors='coerce')\n",
        "df['lotsize'].astype(int)"
      ],
      "metadata": {
        "id": "NdszIEQ_z3xW",
        "colab": {
          "base_uri": "https://localhost:8080/"
        },
        "outputId": "3ab73482-1d2e-45b4-e676-caa08d11eddc"
      },
      "execution_count": 46,
      "outputs": [
        {
          "output_type": "execute_result",
          "data": {
            "text/plain": [
              "0          5828\n",
              "1          5828\n",
              "4         10019\n",
              "5           680\n",
              "6           120\n",
              "          ...  \n",
              "377179     1600\n",
              "377181     1600\n",
              "377182     1600\n",
              "377183     6969\n",
              "377184     6969\n",
              "Name: lotsize, Length: 314380, dtype: int64"
            ]
          },
          "metadata": {},
          "execution_count": 46
        }
      ]
    },
    {
      "cell_type": "code",
      "source": [
        "type_list = []\n",
        "for type in df['Heating']:\n",
        "    if type not in ['forced', 'central', 'electric', 'gas ', 'heat', 'no', 'baseboard ','wall' , 'refrigeration', 'natural ', 'radiant']:\n",
        "        type = 'other'\n",
        "    type_list.append(type)\n",
        "df['Heating'] = type_list\n",
        "df['Heating'].fillna(df['Heating'].mode()[0], inplace=True)"
      ],
      "metadata": {
        "id": "qLde5MRwvid7"
      },
      "execution_count": 47,
      "outputs": []
    },
    {
      "cell_type": "code",
      "source": [
        "ax = sns.boxplot(df, x='target', y='Heating', orient='h', medianprops={\"color\": \"red\", \"linestyle\": '--'})\n",
        "ax.set(xlabel='t', ylabel='Heating')\n",
        "plt.title('...' )\n",
        "plt.show()"
      ],
      "metadata": {
        "colab": {
          "base_uri": "https://localhost:8080/",
          "height": 472
        },
        "id": "Tq1gm0VMy7-o",
        "outputId": "af89e686-6781-4dee-914e-c5a08b8a701b"
      },
      "execution_count": 48,
      "outputs": [
        {
          "output_type": "display_data",
          "data": {
            "text/plain": [
              "<Figure size 640x480 with 1 Axes>"
            ],
            "image/png": "[encoded data removed]"
          },
          "metadata": {}
        }
      ]
    },
    {
      "cell_type": "code",
      "source": [
        "df=df.drop_duplicates ()"
      ],
      "metadata": {
        "id": "2a2UCE4bswaN"
      },
      "execution_count": 49,
      "outputs": []
    },
    {
      "cell_type": "code",
      "source": [
        "\n",
        "import re\n",
        "df['schools'] = df['schools'].astype(str)\n",
        "df['schools_rating'] = df['schools'].apply(lambda x: re.sub(r'data.*', '', x)) #удалит data\n",
        "df['schools_rating'] = df['schools_rating'].apply(lambda x: re.sub(r'/10', '', x))\n",
        "df['schools_rating'] = df['schools_rating'].apply(lambda x: x.replace('rating', ''))\n",
        "df['schools_rating'] = df['schools_rating'].apply(lambda x: x[:-2])\n",
        "df['schools_rating'] = df['schools_rating'].apply(lambda x: x[1:])"
      ],
      "metadata": {
        "id": "vNxZJTMP0wFb"
      },
      "execution_count": 50,
      "outputs": []
    },
    {
      "cell_type": "code",
      "source": [
        "df['school_count'] = df['schools_rating'].apply(lambda x: (len(x.split(','))) if x != '' else 0)\n",
        "df['school_count'] = df['school_count'].astype('int')\n",
        "# Remove all letters\n",
        "df['schools_rating'] = df['schools_rating'].apply(lambda x: re.sub(r'[a-zA-Z]', '', x))\n",
        "# Remove comas withought numbers before them\n",
        "df['schools_rating'] = df['schools_rating'].apply(lambda x: re.sub(r'\\s+,', '', x))\n",
        "# Remove comas at the end\n",
        "df['schools_rating'] = df['schools_rating'].apply(lambda x: x[:-1])\n",
        "# Create a new column 'schools_rating_list'\n",
        "df['schools_rating_list'] = df['schools_rating'].apply(lambda x: [int(i) for i in re.findall(r'\\d+', x)])\n",
        "# Create a new column 'schools_rating_ave'\n",
        "df['schools_rating_ave'] = df['schools_rating_list'].apply(lambda x: round(sum(x) / len(x), 2) if len(x) > 0 else 0)\n",
        "# Unfortunately, '0' in 'schools_rating_ave' represents missing values.\n",
        "# However, it may be interpreted as really bad schools around.\n",
        "# Replace '0' with the average\n",
        "\n",
        "df['schools_rating_ave'] = df['schools_rating_ave'].apply(np.round, decimals=2)\n",
        "\n",
        "# Calculate the average of the 'schools_rating_ave' column\n",
        "average = df['schools_rating_ave'].mean()\n",
        "\n",
        "# Replace zero values with the average\n",
        "df['schools_rating_ave'] = df['schools_rating_ave'].apply(\n",
        "    lambda x: average if x < 1 else x\n",
        ")\n",
        "\n",
        "# Calculate the average distance to the schools around\n",
        "# Leave only information about the distance\n",
        "\n",
        "def extract_text(text):\n",
        "  # Use a regex pattern to extract the text between 'Distance' and 'Grades'\n",
        "  pattern = r\"Distance': \\['(.+?)'\\], 'Grades'\"\n",
        "  match = re.search(pattern, text)\n",
        "  if match:\n",
        "    # Return the text that was found\n",
        "    return match.group(1)\n",
        "  else:\n",
        "    # Return None if no text was found\n",
        "    return None\n",
        "\n",
        "# Apply the extract_text function to each cell in the 'schools' column\n",
        "df['schools_distance'] = df['schools'].apply(extract_text)\n",
        "df['schools_distance'] = df['schools_distance'].astype(str)\n",
        "# Remove ' mi'\n",
        "df['schools_distance'] = df['schools_distance'].apply(lambda x: re.sub(r'\\smi', '', x))\n",
        "# Remove other unnecessary symbols\n",
        "df['schools_distance'] = df['schools_distance'].str.replace(r'[^\\d.,\\s]', '', regex=True)\n",
        "\n",
        "# Convert cleaned strings into lists of float numbers\n",
        "df['schools_distance'] = df['schools_distance'].apply(lambda x: [float(num) for num in x.split(',')] if x else [])\n",
        "\n",
        "# Create a new column called 'schools_distance_ave'\n",
        "df['schools_distance_ave'] = df['schools_distance'].apply(lambda x: round(sum(x)/len(x), 2) if x else 0)"
      ],
      "metadata": {
        "id": "HW39ZLS11Gf8"
      },
      "execution_count": 51,
      "outputs": []
    },
    {
      "cell_type": "code",
      "source": [
        "df['schools_distance_ave'].astype(int)\n",
        "df['schools_distance_ave'].astype(int)"
      ],
      "metadata": {
        "id": "T4R_J5Ij1TB9",
        "colab": {
          "base_uri": "https://localhost:8080/"
        },
        "outputId": "51b3f566-e9fa-4f3b-e453-eed12a44bff5"
      },
      "execution_count": 52,
      "outputs": [
        {
          "output_type": "execute_result",
          "data": {
            "text/plain": [
              "0         5\n",
              "1         1\n",
              "4         4\n",
              "5         0\n",
              "6         3\n",
              "         ..\n",
              "377179    0\n",
              "377181    4\n",
              "377182    0\n",
              "377183    1\n",
              "377184    1\n",
              "Name: schools_distance_ave, Length: 314380, dtype: int64"
            ]
          },
          "metadata": {},
          "execution_count": 52
        }
      ]
    },
    {
      "cell_type": "code",
      "source": [
        "df.drop('schools_rating', axis= 1 , inplace= True )\n",
        "df.drop('schools_rating_list', axis= 1 , inplace= True )\n",
        "df.drop('schools_distance', axis= 1 , inplace= True )\n",
        "df.drop('schools', axis= 1 , inplace= True )"
      ],
      "metadata": {
        "id": "J6MzkVms1dNp"
      },
      "execution_count": 53,
      "outputs": []
    },
    {
      "cell_type": "code",
      "source": [
        "# Sqft\n",
        "df[\"Sqft\"] = df[\"sqft\"].str.replace(r\"[^\\d\\.\\,]\", \"\", regex=True)\n",
        "df['Sqft'] = df['Sqft'].str.replace(',', '',)\n",
        "df['Sqft'] = df['Sqft'].str.replace('.', '',)\n",
        "df['Sqft'] = df['Sqft'].replace('', np.nan).bfill()\n",
        "#df['Sqft'] = df['Sqft']. fillna(df['Sqft'].mode())\n",
        "df['Sqft'].fillna(df['Status'].mode()[0], inplace=True)\n",
        "df['Sqft'] = df['Sqft'].astype (int)"
      ],
      "metadata": {
        "id": "HTiJkLVt5aPN",
        "colab": {
          "base_uri": "https://localhost:8080/"
        },
        "outputId": "4cf72904-b62e-4705-f1fb-fbbab78223db"
      },
      "execution_count": 54,
      "outputs": [
        {
          "output_type": "stream",
          "name": "stderr",
          "text": [
            "<ipython-input-54-b22128d032d5>:4: FutureWarning: The default value of regex will change from True to False in a future version. In addition, single character regular expressions will *not* be treated as literal strings when regex=True.\n",
            "  df['Sqft'] = df['Sqft'].str.replace('.', '',)\n"
          ]
        }
      ]
    },
    {
      "cell_type": "code",
      "source": [
        "df.drop('sqft', axis= 1 , inplace= True )"
      ],
      "metadata": {
        "id": "BFqkSU4n63eG"
      },
      "execution_count": 55,
      "outputs": []
    },
    {
      "cell_type": "code",
      "source": [
        "#  в столбце `baths` удаляем все символы, кроме цифр\n",
        "df[\"baths_n\"] = df[\"baths\"].str.replace(r\"[^\\d\\.]\", \"\", regex=True)\n",
        "df['baths_n']=df['baths_n'].str.replace('.1', '')\n",
        "df['baths_n']=df['baths_n'].str.replace('.0', '')\n",
        "df['baths_n']=df['baths_n'].str.replace('.2', '')\n",
        "df['baths_n']=df['baths_n'].str.replace('.3', '')\n",
        "df['baths_n']=df['baths_n'].str.replace('.4', '')\n",
        "df['baths_n']=df['baths_n'].str.replace('.5', '')\n",
        "df['baths_n']=df['baths_n'].str.replace('.6', '')\n",
        "df['baths_n']=df['baths_n'].str.replace('.7', '')\n",
        "df['baths_n']=df['baths_n'].str.replace('.8', '')\n",
        "df['baths_n']=df['baths_n'].str.replace('.9', '')\n",
        "df[\"baths_n\"]=df['baths_n'].str.replace(\" \", '')\n",
        "df['baths_n']=df['baths_n'].str.replace('.', '')\n",
        "df['baths_n']=df['baths_n'].replace('', np.nan).bfill()\n",
        "#df['baths_n'] = df['baths_n']. fillna(df['baths_n'].median())\n",
        "df[\"baths_n\"]  = pd.to_numeric(df[\"baths_n\"] , errors='coerce')\n",
        "df['baths_n'].fillna(df['Status'].mode()[0], inplace=True)\n",
        "df[\"baths_n\"].astype(int)"
      ],
      "metadata": {
        "id": "HoxQ07Go7HGD",
        "colab": {
          "base_uri": "https://localhost:8080/"
        },
        "outputId": "18689893-0259-4fef-ab06-af3c88457a9f"
      },
      "execution_count": 56,
      "outputs": [
        {
          "output_type": "stream",
          "name": "stderr",
          "text": [
            "<ipython-input-56-816f935bf9a7>:3: FutureWarning: The default value of regex will change from True to False in a future version.\n",
            "  df['baths_n']=df['baths_n'].str.replace('.1', '')\n",
            "<ipython-input-56-816f935bf9a7>:4: FutureWarning: The default value of regex will change from True to False in a future version.\n",
            "  df['baths_n']=df['baths_n'].str.replace('.0', '')\n",
            "<ipython-input-56-816f935bf9a7>:5: FutureWarning: The default value of regex will change from True to False in a future version.\n",
            "  df['baths_n']=df['baths_n'].str.replace('.2', '')\n",
            "<ipython-input-56-816f935bf9a7>:6: FutureWarning: The default value of regex will change from True to False in a future version.\n",
            "  df['baths_n']=df['baths_n'].str.replace('.3', '')\n",
            "<ipython-input-56-816f935bf9a7>:7: FutureWarning: The default value of regex will change from True to False in a future version.\n",
            "  df['baths_n']=df['baths_n'].str.replace('.4', '')\n",
            "<ipython-input-56-816f935bf9a7>:8: FutureWarning: The default value of regex will change from True to False in a future version.\n",
            "  df['baths_n']=df['baths_n'].str.replace('.5', '')\n",
            "<ipython-input-56-816f935bf9a7>:9: FutureWarning: The default value of regex will change from True to False in a future version.\n",
            "  df['baths_n']=df['baths_n'].str.replace('.6', '')\n",
            "<ipython-input-56-816f935bf9a7>:10: FutureWarning: The default value of regex will change from True to False in a future version.\n",
            "  df['baths_n']=df['baths_n'].str.replace('.7', '')\n",
            "<ipython-input-56-816f935bf9a7>:11: FutureWarning: The default value of regex will change from True to False in a future version.\n",
            "  df['baths_n']=df['baths_n'].str.replace('.8', '')\n",
            "<ipython-input-56-816f935bf9a7>:12: FutureWarning: The default value of regex will change from True to False in a future version.\n",
            "  df['baths_n']=df['baths_n'].str.replace('.9', '')\n",
            "<ipython-input-56-816f935bf9a7>:14: FutureWarning: The default value of regex will change from True to False in a future version. In addition, single character regular expressions will *not* be treated as literal strings when regex=True.\n",
            "  df['baths_n']=df['baths_n'].str.replace('.', '')\n"
          ]
        },
        {
          "output_type": "execute_result",
          "data": {
            "text/plain": [
              "0         3\n",
              "1         3\n",
              "4         2\n",
              "5         2\n",
              "6         2\n",
              "         ..\n",
              "377179    3\n",
              "377181    3\n",
              "377182    3\n",
              "377183    2\n",
              "377184    2\n",
              "Name: baths_n, Length: 314380, dtype: int64"
            ]
          },
          "metadata": {},
          "execution_count": 56
        }
      ]
    },
    {
      "cell_type": "code",
      "source": [
        "df.drop('baths', axis= 1 , inplace= True )"
      ],
      "metadata": {
        "id": "jvUNHH2s7XkT"
      },
      "execution_count": 57,
      "outputs": []
    },
    {
      "cell_type": "code",
      "source": [
        "df=df.drop_duplicates ()"
      ],
      "metadata": {
        "id": "IJeEDqvtBRbE"
      },
      "execution_count": 58,
      "outputs": []
    },
    {
      "cell_type": "code",
      "source": [
        "# beds_n\n",
        "df[\"beds_n\"] = df[\"beds\"].str.replace(r\"[^\\d\\.\\,]\", \"\", regex=True)\n",
        "df['beds_n'] = df['beds_n'].str.replace(' ', '')\n",
        "df['beds_n'] = df['beds_n'].str.replace(',', '.')\n",
        "df['beds_n'] = df['beds_n'].str.replace('.4', '')\n",
        "df['beds_n'] = df['beds_n'].str.replace('.3', '')\n",
        "df['beds_n'] = df['beds_n'].str.replace(',', '.')\n",
        "df['beds_n'] = df['beds_n'].str.replace('.7', '')\n",
        "df['beds_n'] = df['beds_n'].str.replace('.', '')\n",
        "df['beds_n'] = df['beds_n'].str.replace('.1', '')\n",
        "df['beds_n'] = df['beds_n'].str.replace('.2', '')\n",
        "df['beds_n'] = df['beds_n'].str.replace('.5', '')\n",
        "df['beds_n'] = df['beds_n'].str.replace('.8', '')\n",
        "df['beds_n'] = df['beds_n'].str.replace('.9', '')\n",
        "df['beds_n'] = df['beds_n'].str.replace(\".6\", '')\n",
        "df['beds_n'] = df['beds_n'].replace('', np.nan).bfill()\n",
        "#df['beds_n'] = df['beds_n']. fillna(df['beds_n'].median())\n",
        "df['beds_n'].fillna(df['Status'].mode()[0], inplace=True)\n",
        "df['beds_n']  = pd.to_numeric(df['beds_n'] , errors='coerce')\n",
        "df['beds_n'] = df['beds_n'].astype (int)"
      ],
      "metadata": {
        "id": "72IBJBxo7jbV",
        "colab": {
          "base_uri": "https://localhost:8080/"
        },
        "outputId": "e47d0476-a76c-4d67-c6ab-154d988feaf5"
      },
      "execution_count": 59,
      "outputs": [
        {
          "output_type": "stream",
          "name": "stderr",
          "text": [
            "<ipython-input-59-b30e13e33f97>:5: FutureWarning: The default value of regex will change from True to False in a future version.\n",
            "  df['beds_n'] = df['beds_n'].str.replace('.4', '')\n",
            "<ipython-input-59-b30e13e33f97>:6: FutureWarning: The default value of regex will change from True to False in a future version.\n",
            "  df['beds_n'] = df['beds_n'].str.replace('.3', '')\n",
            "<ipython-input-59-b30e13e33f97>:8: FutureWarning: The default value of regex will change from True to False in a future version.\n",
            "  df['beds_n'] = df['beds_n'].str.replace('.7', '')\n",
            "<ipython-input-59-b30e13e33f97>:9: FutureWarning: The default value of regex will change from True to False in a future version. In addition, single character regular expressions will *not* be treated as literal strings when regex=True.\n",
            "  df['beds_n'] = df['beds_n'].str.replace('.', '')\n",
            "<ipython-input-59-b30e13e33f97>:10: FutureWarning: The default value of regex will change from True to False in a future version.\n",
            "  df['beds_n'] = df['beds_n'].str.replace('.1', '')\n",
            "<ipython-input-59-b30e13e33f97>:11: FutureWarning: The default value of regex will change from True to False in a future version.\n",
            "  df['beds_n'] = df['beds_n'].str.replace('.2', '')\n",
            "<ipython-input-59-b30e13e33f97>:12: FutureWarning: The default value of regex will change from True to False in a future version.\n",
            "  df['beds_n'] = df['beds_n'].str.replace('.5', '')\n",
            "<ipython-input-59-b30e13e33f97>:13: FutureWarning: The default value of regex will change from True to False in a future version.\n",
            "  df['beds_n'] = df['beds_n'].str.replace('.8', '')\n",
            "<ipython-input-59-b30e13e33f97>:14: FutureWarning: The default value of regex will change from True to False in a future version.\n",
            "  df['beds_n'] = df['beds_n'].str.replace('.9', '')\n",
            "<ipython-input-59-b30e13e33f97>:15: FutureWarning: The default value of regex will change from True to False in a future version.\n",
            "  df['beds_n'] = df['beds_n'].str.replace(\".6\", '')\n"
          ]
        }
      ]
    },
    {
      "cell_type": "code",
      "source": [
        "df.drop('beds', axis= 1 , inplace= True )"
      ],
      "metadata": {
        "id": "NMSOdnX276il"
      },
      "execution_count": 60,
      "outputs": []
    },
    {
      "cell_type": "code",
      "source": [
        "df['stories'] = df['stories'].str.replace(r\"[^\\d\\.]\", \"\", regex=True)\n",
        "df['stories'] = df['stories'].str.replace('.0', '')\n",
        "df['stories'] = df['stories'].str.replace('.5', '')\n",
        "df['stories'] = df['stories'].str.replace('.', '')\n",
        "df['stories'] = df['stories'].replace('', np.nan).bfill()\n",
        "df['stories'].fillna(df['stories'].mode()[0], inplace=True)\n",
        "df['stories'] = pd.to_numeric(df['stories'], errors='coerce')\n",
        "df['stories'].astype(int)"
      ],
      "metadata": {
        "id": "2cQyy_Sh8PN_",
        "colab": {
          "base_uri": "https://localhost:8080/"
        },
        "outputId": "17e038b2-7eb2-4602-c623-cf919020e73d"
      },
      "execution_count": 61,
      "outputs": [
        {
          "output_type": "stream",
          "name": "stderr",
          "text": [
            "<ipython-input-61-8c42a7559ff9>:2: FutureWarning: The default value of regex will change from True to False in a future version.\n",
            "  df['stories'] = df['stories'].str.replace('.0', '')\n",
            "<ipython-input-61-8c42a7559ff9>:3: FutureWarning: The default value of regex will change from True to False in a future version.\n",
            "  df['stories'] = df['stories'].str.replace('.5', '')\n",
            "<ipython-input-61-8c42a7559ff9>:4: FutureWarning: The default value of regex will change from True to False in a future version. In addition, single character regular expressions will *not* be treated as literal strings when regex=True.\n",
            "  df['stories'] = df['stories'].str.replace('.', '')\n"
          ]
        },
        {
          "output_type": "execute_result",
          "data": {
            "text/plain": [
              "0         2\n",
              "1         2\n",
              "4         2\n",
              "5         2\n",
              "6         2\n",
              "         ..\n",
              "377179    3\n",
              "377181    9\n",
              "377182    2\n",
              "377183    1\n",
              "377184    1\n",
              "Name: stories, Length: 314372, dtype: int64"
            ]
          },
          "metadata": {},
          "execution_count": 61
        }
      ]
    },
    {
      "cell_type": "code",
      "source": [
        "df['city'].fillna(df['city'].mode()[0], inplace=True)"
      ],
      "metadata": {
        "id": "rZ6sIo-29RCH"
      },
      "execution_count": 62,
      "outputs": []
    },
    {
      "cell_type": "code",
      "source": [
        "d=df['city'].value_counts()\n",
        "d.head(18)"
      ],
      "metadata": {
        "colab": {
          "base_uri": "https://localhost:8080/"
        },
        "id": "eGFA3hY9hBG7",
        "outputId": "2b1c557a-c12b-489e-8297-35babbef84c7"
      },
      "execution_count": 63,
      "outputs": [
        {
          "output_type": "execute_result",
          "data": {
            "text/plain": [
              "Houston            21052\n",
              "San Antonio        14978\n",
              "Miami              12363\n",
              "Jacksonville        9528\n",
              "Dallas              7034\n",
              "Chicago             6010\n",
              "Charlotte           5778\n",
              "Las Vegas           5387\n",
              "Fort Worth          5228\n",
              "Cleveland           4869\n",
              "Orlando             4847\n",
              "Philadelphia        4395\n",
              "Tampa               4319\n",
              "Austin              4072\n",
              "Nashville           4029\n",
              "Fort Lauderdale     3422\n",
              "Atlanta             3328\n",
              "Ocala               3149\n",
              "Name: city, dtype: int64"
            ]
          },
          "metadata": {},
          "execution_count": 63
        }
      ]
    },
    {
      "cell_type": "code",
      "source": [
        "type_list = []\n",
        "for type in df['city']:\n",
        "    if type not in ['Houston','Miami','Dallas','Chicago','Dallas' ,'Charlotte','Las Vegas','Orlando','Cleveland ','Philadelphia','Austin','Nashville', 'Atlanta','Fort Lauderdale']:\n",
        "      type = 'other'\n",
        "    type_list.append(type)\n",
        "df['B_city'] = type_list\n",
        "df['B_city'].fillna(df['B_city'].mode()[0], inplace=True)"
      ],
      "metadata": {
        "id": "SyZDARB_hNQX"
      },
      "execution_count": 64,
      "outputs": []
    },
    {
      "cell_type": "code",
      "source": [
        "ax = sns.boxplot(df, x='target', y='B_city', orient='h', medianprops={\"color\": \"red\", \"linestyle\": '--'})\n",
        "ax.set(xlabel='target', ylabel='B_city')\n",
        "plt.title('Зависимость просрочки от перврначального взноса' )\n",
        "plt.show()"
      ],
      "metadata": {
        "id": "6nFbv5bu_igj",
        "colab": {
          "base_uri": "https://localhost:8080/",
          "height": 472
        },
        "outputId": "e1bf088a-1be4-457f-b664-40bf249a4da7"
      },
      "execution_count": 65,
      "outputs": [
        {
          "output_type": "display_data",
          "data": {
            "text/plain": [
              "<Figure size 640x480 with 1 Axes>"
            ],
            "image/png": "[encoded data removed]"
          },
          "metadata": {}
        }
      ]
    },
    {
      "cell_type": "code",
      "source": [
        "df.drop('city', axis= 1 , inplace= True )"
      ],
      "metadata": {
        "id": "GaMNdgk3BVQk"
      },
      "execution_count": 66,
      "outputs": []
    },
    {
      "cell_type": "code",
      "source": [
        "df=df.drop_duplicates ()"
      ],
      "metadata": {
        "id": "0oHA6QTjIqkm"
      },
      "execution_count": 67,
      "outputs": []
    },
    {
      "cell_type": "code",
      "source": [
        "df['zipcode'] = df['zipcode'].str.replace('-', ' ')\n",
        "df['zipcode']= df['zipcode'].str.rstrip().str.split( ).str[0]\n",
        "df['zipcode'] = df['zipcode'].replace('', np.nan).bfill()\n",
        "df['zipcode'] = pd.to_numeric(df['zipcode'], errors='coerce')\n",
        "df['zipcode'] = df['zipcode']. fillna(df['zipcode'].mode())\n",
        "df['zipcode'].astype(int)"
      ],
      "metadata": {
        "colab": {
          "base_uri": "https://localhost:8080/"
        },
        "id": "Hwx_e_oqBm9z",
        "outputId": "767a0c01-d8c8-4f98-bebd-0efd4e82ee54"
      },
      "execution_count": 68,
      "outputs": [
        {
          "output_type": "stream",
          "name": "stderr",
          "text": [
            "<ipython-input-68-af3eb10ff269>:1: SettingWithCopyWarning: \n",
            "A value is trying to be set on a copy of a slice from a DataFrame.\n",
            "Try using .loc[row_indexer,col_indexer] = value instead\n",
            "\n",
            "See the caveats in the documentation: https://pandas.pydata.org/pandas-docs/stable/user_guide/indexing.html#returning-a-view-versus-a-copy\n",
            "  df['zipcode'] = df['zipcode'].str.replace('-', ' ')\n"
          ]
        },
        {
          "output_type": "execute_result",
          "data": {
            "text/plain": [
              "0         28387\n",
              "1         99216\n",
              "4         32908\n",
              "5         19145\n",
              "6         34759\n",
              "          ...  \n",
              "377179    20001\n",
              "377181    60657\n",
              "377182    11434\n",
              "377183    77028\n",
              "377184    78218\n",
              "Name: zipcode, Length: 314344, dtype: int64"
            ]
          },
          "metadata": {},
          "execution_count": 68
        }
      ]
    },
    {
      "cell_type": "code",
      "source": [
        "df=df.drop_duplicates ()"
      ],
      "metadata": {
        "id": "UAuz_s9RBatA"
      },
      "execution_count": 69,
      "outputs": []
    },
    {
      "cell_type": "code",
      "source": [
        "df['Price/sqft']=df['Price/sqft'].astype(str).str.replace(r\"[^\\d\\.]\", \"\", regex=True)\n",
        "df['Price/sqft']=df['Price/sqft'].replace('', np.nan).bfill()"
      ],
      "metadata": {
        "id": "p4SllfhJB-9D"
      },
      "execution_count": 70,
      "outputs": []
    },
    {
      "cell_type": "code",
      "source": [
        "df['Price/sqft']=df['Price/sqft'].fillna(df['Price/sqft'].median())\n",
        "df['Price/sqft'].astype(int)"
      ],
      "metadata": {
        "colab": {
          "base_uri": "https://localhost:8080/"
        },
        "id": "0gsJAoEZhdaq",
        "outputId": "831817ab-934d-48ee-d58d-de54a88e7cb6"
      },
      "execution_count": 71,
      "outputs": [
        {
          "output_type": "execute_result",
          "data": {
            "text/plain": [
              "0         14\n",
              "1         15\n",
              "4         23\n",
              "5         23\n",
              "6          6\n",
              "          ..\n",
              "377179    56\n",
              "377181    33\n",
              "377182    45\n",
              "377183    14\n",
              "377184    14\n",
              "Name: Price/sqft, Length: 314344, dtype: int64"
            ]
          },
          "metadata": {},
          "execution_count": 71
        }
      ]
    },
    {
      "cell_type": "code",
      "source": [
        "#df_num = df_dummies.select_dtypes(include=['float64', 'int64'])"
      ],
      "metadata": {
        "id": "FZNr9F8n0Ig4"
      },
      "execution_count": 72,
      "outputs": []
    },
    {
      "cell_type": "code",
      "source": [
        "#df_num.corr()"
      ],
      "metadata": {
        "id": "XM09wlOX0Nps"
      },
      "execution_count": 73,
      "outputs": []
    },
    {
      "cell_type": "code",
      "source": [
        "df.drop(['Year built','lotsize','Sqft','beds_n','Price/sqft','Remodeled_year'], axis= 1 , inplace= True )"
      ],
      "metadata": {
        "id": "AKA5yhru0ibg"
      },
      "execution_count": 74,
      "outputs": []
    },
    {
      "cell_type": "code",
      "source": [
        "df_dummies = pd.get_dummies(df, columns=['propertyType','Heating','Status','B_city'])"
      ],
      "metadata": {
        "id": "3dV1Nk73CiSt"
      },
      "execution_count": 75,
      "outputs": []
    },
    {
      "cell_type": "code",
      "source": [
        "#df_dummies.corr()"
      ],
      "metadata": {
        "id": "F-iFYMy7Cv3A"
      },
      "execution_count": 76,
      "outputs": []
    },
    {
      "cell_type": "code",
      "source": [
        "#categorical_columns=df[['propertyType','state','Heating','Status','B_city']]\n",
        "#categorical_columns"
      ],
      "metadata": {
        "id": "n2P4L8VOD1A4"
      },
      "execution_count": 77,
      "outputs": []
    },
    {
      "cell_type": "code",
      "source": [
        "#def get_stat_dif(column):\n",
        "#    \"\"\"\n",
        " #   Функция проверяет значимость с помощью теста Стьюдента,\n",
        " #   Если признак значимо влияет на score, записывает название столбца в model_columns\n",
        " #   \"\"\"\n",
        " #   cols = df[column].value_counts().index\n",
        "#   combinations_all = list(combinations(cols, 2))\n",
        "#   for comb in combinations_all:\n",
        "  #      if ttest_ind(df[df['target'] > 0].loc[df[column] == comb[0], 'target'],\n",
        " #                    df[df['target'] > 0].loc[df[column] == comb[1], 'target']).pvalue \\\n",
        " #                   <= 0.05/len(combinations_all):  # Учли поправку Бонферони\n",
        "#                print('Найдены статистически значимые различия для колонки', column)\n",
        "#                model_columns.append(column)\n",
        "#                break"
      ],
      "metadata": {
        "id": "i_WkEVpxHff6"
      },
      "execution_count": 78,
      "outputs": []
    },
    {
      "cell_type": "code",
      "source": [
        "#model_columns = []  # здесь будем хранить статистически значимые категориальные признаки\n",
        "#for col in categorical_columns:\n",
        "#    get_stat_dif(col)"
      ],
      "metadata": {
        "id": "1QIRtUmaHl25"
      },
      "execution_count": 79,
      "outputs": []
    },
    {
      "cell_type": "code",
      "source": [
        "df_new=df_dummies[['target','schools_distance_ave','baths_n','zipcode','B_city_Miami','propertyType_other','B_city_Austin','Status_for sale construction',\n",
        "'B_city_Fort Lauderdale','Heating_electric','Status_for sale','B_city_Nashville','Status_foreclosure','school_count','propertyType_other']]"
      ],
      "metadata": {
        "id": "CXmMjsDf_F9E"
      },
      "execution_count": 80,
      "outputs": []
    },
    {
      "cell_type": "code",
      "source": [
        "#df_new.corr()"
      ],
      "metadata": {
        "id": "GYk_636cB_uY"
      },
      "execution_count": 81,
      "outputs": []
    },
    {
      "cell_type": "markdown",
      "source": [
        "**Models **"
      ],
      "metadata": {
        "id": "FbNOw6jL_vZp"
      }
    },
    {
      "cell_type": "code",
      "source": [
        "X = df_new.drop(['target'], axis = 1)\n",
        "y = df_new['target']"
      ],
      "metadata": {
        "id": "ngvTTi7y7El-"
      },
      "execution_count": 82,
      "outputs": []
    },
    {
      "cell_type": "code",
      "source": [
        "from sklearn.model_selection import train_test_split\n",
        "X_train, X_test, y_train, y_test = train_test_split(X, y, test_size=0.25, random_state=42)\n",
        "\n",
        "X_train.shape , X_test.shape, y_train.shape, y_test.shape"
      ],
      "metadata": {
        "colab": {
          "base_uri": "https://localhost:8080/"
        },
        "id": "AcCV7D6eCZ3e",
        "outputId": "d9249316-7ae3-4db3-99a4-0dcef341014e"
      },
      "execution_count": 83,
      "outputs": [
        {
          "output_type": "execute_result",
          "data": {
            "text/plain": [
              "((235758, 14), (78586, 14), (235758,), (78586,))"
            ]
          },
          "metadata": {},
          "execution_count": 83
        }
      ]
    },
    {
      "cell_type": "code",
      "source": [
        "!pip install optuna"
      ],
      "metadata": {
        "colab": {
          "base_uri": "https://localhost:8080/"
        },
        "id": "0nFqza3fGceS",
        "outputId": "3af7dce6-ec01-49f2-a61d-a6c8d9c8f235"
      },
      "execution_count": 84,
      "outputs": [
        {
          "output_type": "stream",
          "name": "stdout",
          "text": [
            "Requirement already satisfied: optuna in /usr/local/lib/python3.10/dist-packages (3.5.0)\n",
            "Requirement already satisfied: alembic>=1.5.0 in /usr/local/lib/python3.10/dist-packages (from optuna) (1.13.1)\n",
            "Requirement already satisfied: colorlog in /usr/local/lib/python3.10/dist-packages (from optuna) (6.8.2)\n",
            "Requirement already satisfied: numpy in /usr/local/lib/python3.10/dist-packages (from optuna) (1.23.5)\n",
            "Requirement already satisfied: packaging>=20.0 in /usr/local/lib/python3.10/dist-packages (from optuna) (23.2)\n",
            "Requirement already satisfied: sqlalchemy>=1.3.0 in /usr/local/lib/python3.10/dist-packages (from optuna) (2.0.25)\n",
            "Requirement already satisfied: tqdm in /usr/local/lib/python3.10/dist-packages (from optuna) (4.66.1)\n",
            "Requirement already satisfied: PyYAML in /usr/local/lib/python3.10/dist-packages (from optuna) (6.0.1)\n",
            "Requirement already satisfied: Mako in /usr/local/lib/python3.10/dist-packages (from alembic>=1.5.0->optuna) (1.3.2)\n",
            "Requirement already satisfied: typing-extensions>=4 in /usr/local/lib/python3.10/dist-packages (from alembic>=1.5.0->optuna) (4.9.0)\n",
            "Requirement already satisfied: greenlet!=0.4.17 in /usr/local/lib/python3.10/dist-packages (from sqlalchemy>=1.3.0->optuna) (3.0.3)\n",
            "Requirement already satisfied: MarkupSafe>=0.9.2 in /usr/local/lib/python3.10/dist-packages (from Mako->alembic>=1.5.0->optuna) (2.1.5)\n"
          ]
        }
      ]
    },
    {
      "cell_type": "code",
      "source": [
        "import optuna"
      ],
      "metadata": {
        "id": "CwQAARZRIKYD"
      },
      "execution_count": 86,
      "outputs": []
    },
    {
      "cell_type": "code",
      "source": [
        "def optuna_rf(trial):\n",
        "  # задаем пространства поиска гиперпараметров\n",
        "  n_estimators = trial.suggest_int('n_estimators', 100, 300, 10)\n",
        "  max_depth = trial.suggest_int('max_depth', 15, 40, 1)\n",
        "  min_samples_leaf = trial.suggest_int('min_samples_leaf', 3, 7, 1)\n",
        "\n",
        "  # создаем модель\n",
        "  model = ensemble.RandomForestClassifier(n_estimators=n_estimators,\n",
        "                                          max_depth=max_depth,\n",
        "                                          min_samples_leaf=min_samples_leaf,\n",
        "                                          random_state =42)\n",
        "  # обучаем модель\n",
        "  model.fit(X_train, y_train)\n",
        "  score = metrics.f1_score(y_train, model.predict(X_train))\n",
        "\n",
        "  return score"
      ],
      "metadata": {
        "id": "NxOylYtXHOgZ"
      },
      "execution_count": 87,
      "outputs": []
    },
    {
      "cell_type": "code",
      "source": [
        "%%time\n",
        "# cоздаем объект исследования\n",
        "# можем напрямую указать, что нам необходимо максимизировать метрику direction=\"maximize\"\n",
        "study = optuna.create_study(study_name=\"RandomForestClassifier\", direction=\"maximize\")\n",
        "# ищем лучшую комбинацию гиперпараметров n_trials раз\n",
        "study.optimize(optuna_rf, n_trials=20)"
      ],
      "metadata": {
        "colab": {
          "base_uri": "https://localhost:8080/",
          "height": 158
        },
        "id": "a_qK_Ph4HWyK",
        "outputId": "997926fe-6cc5-4ccd-84e8-6615997ae3e4"
      },
      "execution_count": 1,
      "outputs": [
        {
          "output_type": "error",
          "ename": "NameError",
          "evalue": "name 'optuna' is not defined",
          "traceback": [
            "\u001b[0;31m---------------------------------------------------------------------------\u001b[0m",
            "\u001b[0;31mNameError\u001b[0m                                 Traceback (most recent call last)",
            "\u001b[0;32m<timed exec>\u001b[0m in \u001b[0;36m<module>\u001b[0;34m\u001b[0m\n",
            "\u001b[0;31mNameError\u001b[0m: name 'optuna' is not defined"
          ]
        }
      ]
    },
    {
      "cell_type": "code",
      "source": [
        "# выводим результаты на обучающей выборке\n",
        "print(\"Наилучшие значения гиперпараметров {}\".format(study.best_params))\n",
        "print(\"f1_score на обучающем наборе: {:.2f}\".format(study.best_value))"
      ],
      "metadata": {
        "id": "91oCMnSYHmXz"
      },
      "execution_count": null,
      "outputs": []
    },
    {
      "cell_type": "code",
      "source": [
        "from sklearn import tree #деревья решений\n",
        "from sklearn import ensemble #ансамбли\n",
        "from sklearn import metrics #метрики\n",
        "from sklearn import preprocessing #предобработка\n",
        "from sklearn.model_selection import train_test_split #сплитование выборки\n",
        "\n",
        "%matplotlib inline"
      ],
      "metadata": {
        "id": "OvUfh_xeLVqI"
      },
      "execution_count": null,
      "outputs": []
    },
    {
      "cell_type": "code",
      "source": [
        "# рассчитаем точность для тестовой выборки\n",
        "model = ensemble.RandomForestClassifier(**study.best_params,random_state=random_state, )\n",
        "model.fit(X_train, y_train)\n",
        "y_train_pred = model.predict(X_train)\n",
        "print(\"accuracy на тестовом наборе: {:.2f}\".format(model.score(X_test, y_test)))\n",
        "y_test_pred = model.predict(X_test)\n",
        "print('f1_score на тестовом наборе: {:.2f}'.format(metrics.f1_score(y_test, y_test_pred)))"
      ],
      "metadata": {
        "id": "fUsGtCSQHqQc"
      },
      "execution_count": null,
      "outputs": []
    },
    {
      "cell_type": "code",
      "source": [
        "# рассчитаем точность для тестовой выборки\n",
        "model = ensemble.RandomForestClassifier(\n",
        "    random_state=42)\n",
        "model.fit(X_train, y_train)\n",
        "y_train_pred = model.predict(X_train)\n",
        "#print(metrics.classification_report(y, y_pred))"
      ],
      "metadata": {
        "id": "EtuNsvVAgYu_"
      },
      "execution_count": null,
      "outputs": []
    },
    {
      "cell_type": "code",
      "source": [
        "%%time\n",
        "# можем прододжить подбор, указав n_trials(любое число, которое добавится к предыдущим итерациям)\n",
        "study.optimize(optuna_rf, n_trials=10)"
      ],
      "metadata": {
        "id": "JBaJ2vcDHs2A"
      },
      "execution_count": null,
      "outputs": []
    },
    {
      "cell_type": "code",
      "source": [
        "gboost,"
      ],
      "metadata": {
        "id": "T0MNPICGC9Kh"
      },
      "execution_count": null,
      "outputs": []
    }
  ]
}